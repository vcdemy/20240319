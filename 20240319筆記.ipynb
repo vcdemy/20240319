{
 "cells": [
  {
   "cell_type": "markdown",
   "id": "6a75fb4b-8e85-4725-bec1-300a5336ff39",
   "metadata": {},
   "source": [
    "# 20240319筆記"
   ]
  },
  {
   "cell_type": "markdown",
   "id": "cce62af3-aa4f-472c-ae97-d8db6656103e",
   "metadata": {},
   "source": [
    "## 資料分析基礎套件"
   ]
  },
  {
   "cell_type": "markdown",
   "id": "62f7c474-cc4c-4cd2-a1b6-1d594dbfe319",
   "metadata": {},
   "source": [
    "* numpy => 科學運算基礎套件\n",
    "* matplotlib => 繪圖基礎套件\n",
    "* pandas => 資料分析基礎套件"
   ]
  },
  {
   "cell_type": "markdown",
   "id": "2735d698-5232-47ee-869c-74e9a8c6e1d5",
   "metadata": {},
   "source": [
    "## NumPy (Numerical Python)\n",
    "\n",
    "* ndarray (N-Dimensional Arrays) => 多維陣列\n",
    "* ufunc (Universal Function) => 通用函式"
   ]
  },
  {
   "cell_type": "markdown",
   "id": "805e16ea-e6d0-4fc4-843d-50c2bf1f860e",
   "metadata": {},
   "source": [
    "## Pandas\n",
    "\n",
    "* Series\n",
    "* DataFrame"
   ]
  },
  {
   "cell_type": "markdown",
   "id": "51813dab-e92c-4e3d-8742-546b069a1f31",
   "metadata": {},
   "source": [
    "## 使用yfinance讀取股價歷史資料"
   ]
  },
  {
   "cell_type": "code",
   "execution_count": 2,
   "id": "ad28d06b-1d76-45c4-b4c6-2ee2169f7e3e",
   "metadata": {
    "collapsed": true,
    "jupyter": {
     "outputs_hidden": true
    },
    "scrolled": true
   },
   "outputs": [
    {
     "name": "stdout",
     "output_type": "stream",
     "text": [
      "Defaulting to user installation because normal site-packages is not writeable\n",
      "Collecting yfinance\n",
      "  Downloading yfinance-0.2.37-py2.py3-none-any.whl.metadata (11 kB)\n",
      "Requirement already satisfied: pandas>=1.3.0 in c:\\users\\victor\\appdata\\local\\packages\\pythonsoftwarefoundation.python.3.12_qbz5n2kfra8p0\\localcache\\local-packages\\python312\\site-packages (from yfinance) (2.2.1)\n",
      "Requirement already satisfied: numpy>=1.16.5 in c:\\users\\victor\\appdata\\local\\packages\\pythonsoftwarefoundation.python.3.12_qbz5n2kfra8p0\\localcache\\local-packages\\python312\\site-packages (from yfinance) (1.26.4)\n",
      "Requirement already satisfied: requests>=2.31 in c:\\users\\victor\\appdata\\local\\packages\\pythonsoftwarefoundation.python.3.12_qbz5n2kfra8p0\\localcache\\local-packages\\python312\\site-packages (from yfinance) (2.31.0)\n",
      "Collecting multitasking>=0.0.7 (from yfinance)\n",
      "  Downloading multitasking-0.0.11-py3-none-any.whl.metadata (5.5 kB)\n",
      "Collecting lxml>=4.9.1 (from yfinance)\n",
      "  Downloading lxml-5.1.0-cp312-cp312-win_amd64.whl.metadata (3.6 kB)\n",
      "Collecting appdirs>=1.4.4 (from yfinance)\n",
      "  Downloading appdirs-1.4.4-py2.py3-none-any.whl.metadata (9.0 kB)\n",
      "Requirement already satisfied: pytz>=2022.5 in c:\\users\\victor\\appdata\\local\\packages\\pythonsoftwarefoundation.python.3.12_qbz5n2kfra8p0\\localcache\\local-packages\\python312\\site-packages (from yfinance) (2024.1)\n",
      "Collecting frozendict>=2.3.4 (from yfinance)\n",
      "  Downloading frozendict-2.4.0.tar.gz (314 kB)\n",
      "     ---------------------------------------- 0.0/314.6 kB ? eta -:--:--\n",
      "     - -------------------------------------- 10.2/314.6 kB ? eta -:--:--\n",
      "     --- --------------------------------- 30.7/314.6 kB 660.6 kB/s eta 0:00:01\n",
      "     --------- --------------------------- 81.9/314.6 kB 573.4 kB/s eta 0:00:01\n",
      "     -------------- --------------------- 122.9/314.6 kB 654.9 kB/s eta 0:00:01\n",
      "     ----------------------- ------------ 204.8/314.6 kB 888.4 kB/s eta 0:00:01\n",
      "     -------------------------------------  307.2/314.6 kB 1.1 MB/s eta 0:00:01\n",
      "     -------------------------------------- 314.6/314.6 kB 1.1 MB/s eta 0:00:00\n",
      "  Installing build dependencies: started\n",
      "  Installing build dependencies: finished with status 'done'\n",
      "  Getting requirements to build wheel: started\n",
      "  Getting requirements to build wheel: finished with status 'done'\n",
      "  Installing backend dependencies: started\n",
      "  Installing backend dependencies: finished with status 'done'\n",
      "  Preparing metadata (pyproject.toml): started\n",
      "  Preparing metadata (pyproject.toml): finished with status 'done'\n",
      "Collecting peewee>=3.16.2 (from yfinance)\n",
      "  Downloading peewee-3.17.1.tar.gz (3.0 MB)\n",
      "     ---------------------------------------- 0.0/3.0 MB ? eta -:--:--\n",
      "     --- ------------------------------------ 0.2/3.0 MB 7.6 MB/s eta 0:00:01\n",
      "     --- ------------------------------------ 0.3/3.0 MB 3.2 MB/s eta 0:00:01\n",
      "     ------- -------------------------------- 0.5/3.0 MB 4.2 MB/s eta 0:00:01\n",
      "     ---------- ----------------------------- 0.8/3.0 MB 4.2 MB/s eta 0:00:01\n",
      "     ------------- -------------------------- 1.0/3.0 MB 4.2 MB/s eta 0:00:01\n",
      "     ---------------- ----------------------- 1.2/3.0 MB 4.4 MB/s eta 0:00:01\n",
      "     ------------------- -------------------- 1.4/3.0 MB 4.5 MB/s eta 0:00:01\n",
      "     ------------------------ --------------- 1.8/3.0 MB 4.9 MB/s eta 0:00:01\n",
      "     --------------------------- ------------ 2.0/3.0 MB 4.8 MB/s eta 0:00:01\n",
      "     ------------------------------ --------- 2.2/3.0 MB 4.7 MB/s eta 0:00:01\n",
      "     ----------------------------------- ---- 2.6/3.0 MB 5.0 MB/s eta 0:00:01\n",
      "     -------------------------------------- - 2.8/3.0 MB 5.0 MB/s eta 0:00:01\n",
      "     ---------------------------------------- 3.0/3.0 MB 4.6 MB/s eta 0:00:00\n",
      "  Installing build dependencies: started\n",
      "  Installing build dependencies: finished with status 'done'\n",
      "  Getting requirements to build wheel: started\n",
      "  Getting requirements to build wheel: finished with status 'done'\n",
      "  Preparing metadata (pyproject.toml): started\n",
      "  Preparing metadata (pyproject.toml): finished with status 'done'\n",
      "Requirement already satisfied: beautifulsoup4>=4.11.1 in c:\\users\\victor\\appdata\\local\\packages\\pythonsoftwarefoundation.python.3.12_qbz5n2kfra8p0\\localcache\\local-packages\\python312\\site-packages (from yfinance) (4.12.3)\n",
      "Collecting html5lib>=1.1 (from yfinance)\n",
      "  Downloading html5lib-1.1-py2.py3-none-any.whl.metadata (16 kB)\n",
      "Requirement already satisfied: soupsieve>1.2 in c:\\users\\victor\\appdata\\local\\packages\\pythonsoftwarefoundation.python.3.12_qbz5n2kfra8p0\\localcache\\local-packages\\python312\\site-packages (from beautifulsoup4>=4.11.1->yfinance) (2.5)\n",
      "Requirement already satisfied: six>=1.9 in c:\\users\\victor\\appdata\\local\\packages\\pythonsoftwarefoundation.python.3.12_qbz5n2kfra8p0\\localcache\\local-packages\\python312\\site-packages (from html5lib>=1.1->yfinance) (1.16.0)\n",
      "Requirement already satisfied: webencodings in c:\\users\\victor\\appdata\\local\\packages\\pythonsoftwarefoundation.python.3.12_qbz5n2kfra8p0\\localcache\\local-packages\\python312\\site-packages (from html5lib>=1.1->yfinance) (0.5.1)\n",
      "Requirement already satisfied: python-dateutil>=2.8.2 in c:\\users\\victor\\appdata\\local\\packages\\pythonsoftwarefoundation.python.3.12_qbz5n2kfra8p0\\localcache\\local-packages\\python312\\site-packages (from pandas>=1.3.0->yfinance) (2.9.0.post0)\n",
      "Requirement already satisfied: tzdata>=2022.7 in c:\\users\\victor\\appdata\\local\\packages\\pythonsoftwarefoundation.python.3.12_qbz5n2kfra8p0\\localcache\\local-packages\\python312\\site-packages (from pandas>=1.3.0->yfinance) (2024.1)\n",
      "Requirement already satisfied: charset-normalizer<4,>=2 in c:\\users\\victor\\appdata\\local\\packages\\pythonsoftwarefoundation.python.3.12_qbz5n2kfra8p0\\localcache\\local-packages\\python312\\site-packages (from requests>=2.31->yfinance) (3.3.2)\n",
      "Requirement already satisfied: idna<4,>=2.5 in c:\\users\\victor\\appdata\\local\\packages\\pythonsoftwarefoundation.python.3.12_qbz5n2kfra8p0\\localcache\\local-packages\\python312\\site-packages (from requests>=2.31->yfinance) (3.6)\n",
      "Requirement already satisfied: urllib3<3,>=1.21.1 in c:\\users\\victor\\appdata\\local\\packages\\pythonsoftwarefoundation.python.3.12_qbz5n2kfra8p0\\localcache\\local-packages\\python312\\site-packages (from requests>=2.31->yfinance) (2.2.1)\n",
      "Requirement already satisfied: certifi>=2017.4.17 in c:\\users\\victor\\appdata\\local\\packages\\pythonsoftwarefoundation.python.3.12_qbz5n2kfra8p0\\localcache\\local-packages\\python312\\site-packages (from requests>=2.31->yfinance) (2024.2.2)\n",
      "Downloading yfinance-0.2.37-py2.py3-none-any.whl (72 kB)\n",
      "   ---------------------------------------- 0.0/73.0 kB ? eta -:--:--\n",
      "   ---------------------------------------- 73.0/73.0 kB 3.9 MB/s eta 0:00:00\n",
      "Downloading appdirs-1.4.4-py2.py3-none-any.whl (9.6 kB)\n",
      "Downloading html5lib-1.1-py2.py3-none-any.whl (112 kB)\n",
      "   ---------------------------------------- 0.0/112.2 kB ? eta -:--:--\n",
      "   ---------------------------------------- 112.2/112.2 kB ? eta 0:00:00\n",
      "Downloading lxml-5.1.0-cp312-cp312-win_amd64.whl (3.9 MB)\n",
      "   ---------------------------------------- 0.0/3.9 MB ? eta -:--:--\n",
      "   ---- ----------------------------------- 0.5/3.9 MB 9.6 MB/s eta 0:00:01\n",
      "   ------- -------------------------------- 0.7/3.9 MB 7.3 MB/s eta 0:00:01\n",
      "   ---------- ----------------------------- 1.0/3.9 MB 7.1 MB/s eta 0:00:01\n",
      "   -------------- ------------------------- 1.4/3.9 MB 7.4 MB/s eta 0:00:01\n",
      "   ------------------ --------------------- 1.8/3.9 MB 7.0 MB/s eta 0:00:01\n",
      "   ------------------- -------------------- 1.9/3.9 MB 6.9 MB/s eta 0:00:01\n",
      "   ------------------------ --------------- 2.4/3.9 MB 7.3 MB/s eta 0:00:01\n",
      "   --------------------------- ------------ 2.7/3.9 MB 6.9 MB/s eta 0:00:01\n",
      "   ------------------------------- -------- 3.1/3.9 MB 7.0 MB/s eta 0:00:01\n",
      "   --------------------------------- ------ 3.3/3.9 MB 6.9 MB/s eta 0:00:01\n",
      "   -------------------------------------- - 3.7/3.9 MB 7.0 MB/s eta 0:00:01\n",
      "   ---------------------------------------- 3.9/3.9 MB 6.9 MB/s eta 0:00:00\n",
      "Downloading multitasking-0.0.11-py3-none-any.whl (8.5 kB)\n",
      "Building wheels for collected packages: frozendict, peewee\n",
      "  Building wheel for frozendict (pyproject.toml): started\n",
      "  Building wheel for frozendict (pyproject.toml): finished with status 'done'\n",
      "  Created wheel for frozendict: filename=frozendict-2.4.0-py3-none-any.whl size=15471 sha256=67d91328555c5e1005b18c192d70b10dcf6133082ac0a0ff45713d7792d78dd9\n",
      "  Stored in directory: c:\\users\\victor\\appdata\\local\\packages\\pythonsoftwarefoundation.python.3.12_qbz5n2kfra8p0\\localcache\\local\\pip\\cache\\wheels\\f8\\24\\61\\a7327cee6da6ddddd619cddf13acfb4ec63606c69bbfe31486\n",
      "  Building wheel for peewee (pyproject.toml): started\n",
      "  Building wheel for peewee (pyproject.toml): finished with status 'done'\n",
      "  Created wheel for peewee: filename=peewee-3.17.1-py3-none-any.whl size=136948 sha256=806beeea69062bded5dd3d3c84e3d8376b337cb782e2c6b95b4690a702afc284\n",
      "  Stored in directory: c:\\users\\victor\\appdata\\local\\packages\\pythonsoftwarefoundation.python.3.12_qbz5n2kfra8p0\\localcache\\local\\pip\\cache\\wheels\\fe\\58\\f4\\132ded03aa364dd5d2bbc2d02e1c2074a9b5012776d15fc2dc\n",
      "Successfully built frozendict peewee\n",
      "Installing collected packages: peewee, multitasking, appdirs, lxml, html5lib, frozendict, yfinance\n",
      "Successfully installed appdirs-1.4.4 frozendict-2.4.0 html5lib-1.1 lxml-5.1.0 multitasking-0.0.11 peewee-3.17.1 yfinance-0.2.37\n"
     ]
    },
    {
     "name": "stderr",
     "output_type": "stream",
     "text": [
      "  WARNING: The script sample.exe is installed in 'C:\\Users\\Victor\\AppData\\Local\\Packages\\PythonSoftwareFoundation.Python.3.12_qbz5n2kfra8p0\\LocalCache\\local-packages\\Python312\\Scripts' which is not on PATH.\n",
      "  Consider adding this directory to PATH or, if you prefer to suppress this warning, use --no-warn-script-location.\n"
     ]
    }
   ],
   "source": [
    "!pip install yfinance"
   ]
  },
  {
   "cell_type": "code",
   "execution_count": 3,
   "id": "67266a2b-0591-434d-90f2-7b961b59d515",
   "metadata": {},
   "outputs": [],
   "source": [
    "import yfinance as yf"
   ]
  },
  {
   "cell_type": "code",
   "execution_count": 6,
   "id": "3aa6e7bc-0bbf-4525-9730-ec521f7d6aa2",
   "metadata": {},
   "outputs": [],
   "source": [
    "import requests"
   ]
  },
  {
   "cell_type": "code",
   "execution_count": 7,
   "id": "86c180b5-2b6b-4ac6-9e49-fa87f993c90f",
   "metadata": {
    "collapsed": true,
    "jupyter": {
     "outputs_hidden": true
    },
    "scrolled": true
   },
   "outputs": [
    {
     "name": "stderr",
     "output_type": "stream",
     "text": [
      "C:\\Users\\Victor\\AppData\\Local\\Packages\\PythonSoftwareFoundation.Python.3.12_qbz5n2kfra8p0\\LocalCache\\local-packages\\Python312\\site-packages\\urllib3\\connectionpool.py:1103: InsecureRequestWarning: Unverified HTTPS request is being made to host 'query2.finance.yahoo.com'. Adding certificate verification is strongly advised. See: https://urllib3.readthedocs.io/en/latest/advanced-usage.html#tls-warnings\n",
      "  warnings.warn(\n",
      "[*********************100%%**********************]  1 of 1 completed\n"
     ]
    }
   ],
   "source": [
    "session = requests.Session()\n",
    "session.verify = False\n",
    "df = yf.download('2330.tw', session=session)"
   ]
  },
  {
   "cell_type": "code",
   "execution_count": 4,
   "id": "7505735b-8d21-4ee3-8336-1734d9f321bd",
   "metadata": {},
   "outputs": [
    {
     "name": "stderr",
     "output_type": "stream",
     "text": [
      "[*********************100%%**********************]  1 of 1 completed\n"
     ]
    }
   ],
   "source": [
    "# df = yf.download('2330.tw')"
   ]
  },
  {
   "cell_type": "code",
   "execution_count": 8,
   "id": "54ab1c37-c90a-4443-a569-ce2409034662",
   "metadata": {},
   "outputs": [
    {
     "data": {
      "text/plain": [
       "pandas.core.frame.DataFrame"
      ]
     },
     "execution_count": 8,
     "metadata": {},
     "output_type": "execute_result"
    }
   ],
   "source": [
    "type(df)"
   ]
  },
  {
   "cell_type": "markdown",
   "id": "7e77f3ea-b231-4723-a0f2-7f8a3d648211",
   "metadata": {},
   "source": [
    "## 檢視DataFrame"
   ]
  },
  {
   "cell_type": "code",
   "execution_count": 5,
   "id": "ca52a5c6-dba9-4c91-85ab-fe7b11cbe400",
   "metadata": {},
   "outputs": [
    {
     "data": {
      "text/html": [
       "<div>\n",
       "<style scoped>\n",
       "    .dataframe tbody tr th:only-of-type {\n",
       "        vertical-align: middle;\n",
       "    }\n",
       "\n",
       "    .dataframe tbody tr th {\n",
       "        vertical-align: top;\n",
       "    }\n",
       "\n",
       "    .dataframe thead th {\n",
       "        text-align: right;\n",
       "    }\n",
       "</style>\n",
       "<table border=\"1\" class=\"dataframe\">\n",
       "  <thead>\n",
       "    <tr style=\"text-align: right;\">\n",
       "      <th></th>\n",
       "      <th>Open</th>\n",
       "      <th>High</th>\n",
       "      <th>Low</th>\n",
       "      <th>Close</th>\n",
       "      <th>Adj Close</th>\n",
       "      <th>Volume</th>\n",
       "    </tr>\n",
       "    <tr>\n",
       "      <th>Date</th>\n",
       "      <th></th>\n",
       "      <th></th>\n",
       "      <th></th>\n",
       "      <th></th>\n",
       "      <th></th>\n",
       "      <th></th>\n",
       "    </tr>\n",
       "  </thead>\n",
       "  <tbody>\n",
       "    <tr>\n",
       "      <th>2000-01-04</th>\n",
       "      <td>69.649033</td>\n",
       "      <td>69.649033</td>\n",
       "      <td>68.475182</td>\n",
       "      <td>69.649033</td>\n",
       "      <td>34.502380</td>\n",
       "      <td>200662336736</td>\n",
       "    </tr>\n",
       "    <tr>\n",
       "      <th>2000-01-05</th>\n",
       "      <td>69.649033</td>\n",
       "      <td>71.214043</td>\n",
       "      <td>68.866341</td>\n",
       "      <td>71.214043</td>\n",
       "      <td>35.277645</td>\n",
       "      <td>402466805912</td>\n",
       "    </tr>\n",
       "    <tr>\n",
       "      <th>2000-01-06</th>\n",
       "      <td>70.822884</td>\n",
       "      <td>71.214043</td>\n",
       "      <td>69.649033</td>\n",
       "      <td>69.649033</td>\n",
       "      <td>34.502380</td>\n",
       "      <td>197545715802</td>\n",
       "    </tr>\n",
       "    <tr>\n",
       "      <th>2000-01-07</th>\n",
       "      <td>67.301331</td>\n",
       "      <td>68.475182</td>\n",
       "      <td>66.518639</td>\n",
       "      <td>67.692490</td>\n",
       "      <td>33.533157</td>\n",
       "      <td>235270344752</td>\n",
       "    </tr>\n",
       "    <tr>\n",
       "      <th>2000-01-10</th>\n",
       "      <td>69.649033</td>\n",
       "      <td>70.431351</td>\n",
       "      <td>68.475182</td>\n",
       "      <td>70.040192</td>\n",
       "      <td>34.696148</td>\n",
       "      <td>276171685539</td>\n",
       "    </tr>\n",
       "  </tbody>\n",
       "</table>\n",
       "</div>"
      ],
      "text/plain": [
       "                 Open       High        Low      Close  Adj Close  \\\n",
       "Date                                                                \n",
       "2000-01-04  69.649033  69.649033  68.475182  69.649033  34.502380   \n",
       "2000-01-05  69.649033  71.214043  68.866341  71.214043  35.277645   \n",
       "2000-01-06  70.822884  71.214043  69.649033  69.649033  34.502380   \n",
       "2000-01-07  67.301331  68.475182  66.518639  67.692490  33.533157   \n",
       "2000-01-10  69.649033  70.431351  68.475182  70.040192  34.696148   \n",
       "\n",
       "                  Volume  \n",
       "Date                      \n",
       "2000-01-04  200662336736  \n",
       "2000-01-05  402466805912  \n",
       "2000-01-06  197545715802  \n",
       "2000-01-07  235270344752  \n",
       "2000-01-10  276171685539  "
      ]
     },
     "execution_count": 5,
     "metadata": {},
     "output_type": "execute_result"
    }
   ],
   "source": [
    "df.head()"
   ]
  },
  {
   "cell_type": "code",
   "execution_count": 9,
   "id": "a31b30b2-4b15-4291-8ac8-a2ab1b740cb9",
   "metadata": {},
   "outputs": [
    {
     "data": {
      "text/html": [
       "<div>\n",
       "<style scoped>\n",
       "    .dataframe tbody tr th:only-of-type {\n",
       "        vertical-align: middle;\n",
       "    }\n",
       "\n",
       "    .dataframe tbody tr th {\n",
       "        vertical-align: top;\n",
       "    }\n",
       "\n",
       "    .dataframe thead th {\n",
       "        text-align: right;\n",
       "    }\n",
       "</style>\n",
       "<table border=\"1\" class=\"dataframe\">\n",
       "  <thead>\n",
       "    <tr style=\"text-align: right;\">\n",
       "      <th></th>\n",
       "      <th>Open</th>\n",
       "      <th>High</th>\n",
       "      <th>Low</th>\n",
       "      <th>Close</th>\n",
       "      <th>Adj Close</th>\n",
       "      <th>Volume</th>\n",
       "    </tr>\n",
       "    <tr>\n",
       "      <th>Date</th>\n",
       "      <th></th>\n",
       "      <th></th>\n",
       "      <th></th>\n",
       "      <th></th>\n",
       "      <th></th>\n",
       "      <th></th>\n",
       "    </tr>\n",
       "  </thead>\n",
       "  <tbody>\n",
       "    <tr>\n",
       "      <th>2000-01-04</th>\n",
       "      <td>69.649033</td>\n",
       "      <td>69.649033</td>\n",
       "      <td>68.475182</td>\n",
       "      <td>69.649033</td>\n",
       "      <td>34.502365</td>\n",
       "      <td>200662336736</td>\n",
       "    </tr>\n",
       "  </tbody>\n",
       "</table>\n",
       "</div>"
      ],
      "text/plain": [
       "                 Open       High        Low      Close  Adj Close  \\\n",
       "Date                                                                \n",
       "2000-01-04  69.649033  69.649033  68.475182  69.649033  34.502365   \n",
       "\n",
       "                  Volume  \n",
       "Date                      \n",
       "2000-01-04  200662336736  "
      ]
     },
     "execution_count": 9,
     "metadata": {},
     "output_type": "execute_result"
    }
   ],
   "source": [
    "df.head(1)"
   ]
  },
  {
   "cell_type": "code",
   "execution_count": 10,
   "id": "821aa0c9-269b-4e5c-9ed2-bcfe3de130b7",
   "metadata": {},
   "outputs": [
    {
     "name": "stdout",
     "output_type": "stream",
     "text": [
      "<class 'pandas.core.frame.DataFrame'>\n",
      "DatetimeIndex: 6032 entries, 2000-01-04 to 2024-03-18\n",
      "Data columns (total 6 columns):\n",
      " #   Column     Non-Null Count  Dtype  \n",
      "---  ------     --------------  -----  \n",
      " 0   Open       6032 non-null   float64\n",
      " 1   High       6032 non-null   float64\n",
      " 2   Low        6032 non-null   float64\n",
      " 3   Close      6032 non-null   float64\n",
      " 4   Adj Close  6032 non-null   float64\n",
      " 5   Volume     6032 non-null   int64  \n",
      "dtypes: float64(5), int64(1)\n",
      "memory usage: 329.9 KB\n"
     ]
    }
   ],
   "source": [
    "df.info()"
   ]
  },
  {
   "cell_type": "code",
   "execution_count": 11,
   "id": "d6d422be-65ea-496e-ae53-9117591232bd",
   "metadata": {},
   "outputs": [
    {
     "data": {
      "text/html": [
       "<div>\n",
       "<style scoped>\n",
       "    .dataframe tbody tr th:only-of-type {\n",
       "        vertical-align: middle;\n",
       "    }\n",
       "\n",
       "    .dataframe tbody tr th {\n",
       "        vertical-align: top;\n",
       "    }\n",
       "\n",
       "    .dataframe thead th {\n",
       "        text-align: right;\n",
       "    }\n",
       "</style>\n",
       "<table border=\"1\" class=\"dataframe\">\n",
       "  <thead>\n",
       "    <tr style=\"text-align: right;\">\n",
       "      <th></th>\n",
       "      <th>Open</th>\n",
       "      <th>High</th>\n",
       "      <th>Low</th>\n",
       "      <th>Close</th>\n",
       "      <th>Adj Close</th>\n",
       "      <th>Volume</th>\n",
       "    </tr>\n",
       "    <tr>\n",
       "      <th>Date</th>\n",
       "      <th></th>\n",
       "      <th></th>\n",
       "      <th></th>\n",
       "      <th></th>\n",
       "      <th></th>\n",
       "      <th></th>\n",
       "    </tr>\n",
       "  </thead>\n",
       "  <tbody>\n",
       "    <tr>\n",
       "      <th>2024-03-12</th>\n",
       "      <td>757.0</td>\n",
       "      <td>771.0</td>\n",
       "      <td>754.0</td>\n",
       "      <td>770.0</td>\n",
       "      <td>766.420959</td>\n",
       "      <td>58110339</td>\n",
       "    </tr>\n",
       "    <tr>\n",
       "      <th>2024-03-13</th>\n",
       "      <td>785.0</td>\n",
       "      <td>785.0</td>\n",
       "      <td>777.0</td>\n",
       "      <td>779.0</td>\n",
       "      <td>775.379150</td>\n",
       "      <td>36754557</td>\n",
       "    </tr>\n",
       "    <tr>\n",
       "      <th>2024-03-14</th>\n",
       "      <td>779.0</td>\n",
       "      <td>785.0</td>\n",
       "      <td>770.0</td>\n",
       "      <td>784.0</td>\n",
       "      <td>780.355896</td>\n",
       "      <td>42010806</td>\n",
       "    </tr>\n",
       "    <tr>\n",
       "      <th>2024-03-15</th>\n",
       "      <td>771.0</td>\n",
       "      <td>777.0</td>\n",
       "      <td>753.0</td>\n",
       "      <td>753.0</td>\n",
       "      <td>749.500000</td>\n",
       "      <td>73316437</td>\n",
       "    </tr>\n",
       "    <tr>\n",
       "      <th>2024-03-18</th>\n",
       "      <td>754.0</td>\n",
       "      <td>765.0</td>\n",
       "      <td>754.0</td>\n",
       "      <td>764.0</td>\n",
       "      <td>764.000000</td>\n",
       "      <td>44211544</td>\n",
       "    </tr>\n",
       "  </tbody>\n",
       "</table>\n",
       "</div>"
      ],
      "text/plain": [
       "             Open   High    Low  Close   Adj Close    Volume\n",
       "Date                                                        \n",
       "2024-03-12  757.0  771.0  754.0  770.0  766.420959  58110339\n",
       "2024-03-13  785.0  785.0  777.0  779.0  775.379150  36754557\n",
       "2024-03-14  779.0  785.0  770.0  784.0  780.355896  42010806\n",
       "2024-03-15  771.0  777.0  753.0  753.0  749.500000  73316437\n",
       "2024-03-18  754.0  765.0  754.0  764.0  764.000000  44211544"
      ]
     },
     "execution_count": 11,
     "metadata": {},
     "output_type": "execute_result"
    }
   ],
   "source": [
    "df.tail()"
   ]
  },
  {
   "cell_type": "markdown",
   "id": "8fc9ecff-9e6d-4e79-8f47-f6e027446ba7",
   "metadata": {},
   "source": [
    "## 資料視覺化"
   ]
  },
  {
   "cell_type": "code",
   "execution_count": 12,
   "id": "21c48884-3701-4922-b8ed-435383db0789",
   "metadata": {},
   "outputs": [
    {
     "data": {
      "text/plain": [
       "<Axes: xlabel='Date'>"
      ]
     },
     "execution_count": 12,
     "metadata": {},
     "output_type": "execute_result"
    },
    {
     "data": {
      "image/png": "[encoded data removed]",
      "text/plain": [
       "<Figure size 640x480 with 1 Axes>"
      ]
     },
     "metadata": {},
     "output_type": "display_data"
    }
   ],
   "source": [
    "df['Close'].plot()"
   ]
  },
  {
   "cell_type": "code",
   "execution_count": 14,
   "id": "a9b6b321-5187-4e43-b2af-6b1b9fc509f0",
   "metadata": {
    "collapsed": true,
    "jupyter": {
     "outputs_hidden": true
    },
    "scrolled": true
   },
   "outputs": [
    {
     "name": "stdout",
     "output_type": "stream",
     "text": [
      "Defaulting to user installation because normal site-packages is not writeable\n",
      "Collecting plotly\n",
      "  Downloading plotly-5.20.0-py3-none-any.whl.metadata (7.0 kB)\n",
      "Collecting tenacity>=6.2.0 (from plotly)\n",
      "  Downloading tenacity-8.2.3-py3-none-any.whl.metadata (1.0 kB)\n",
      "Requirement already satisfied: packaging in c:\\users\\victor\\appdata\\local\\packages\\pythonsoftwarefoundation.python.3.12_qbz5n2kfra8p0\\localcache\\local-packages\\python312\\site-packages (from plotly) (24.0)\n",
      "Downloading plotly-5.20.0-py3-none-any.whl (15.7 MB)\n",
      "   ---------------------------------------- 0.0/15.7 MB ? eta -:--:--\n",
      "   ---------------------------------------- 0.0/15.7 MB ? eta -:--:--\n",
      "   ---------------------------------------- 0.0/15.7 MB 435.7 kB/s eta 0:00:36\n",
      "   ---------------------------------------- 0.1/15.7 MB 409.6 kB/s eta 0:00:39\n",
      "   ---------------------------------------- 0.1/15.7 MB 525.1 kB/s eta 0:00:30\n",
      "   ---------------------------------------- 0.1/15.7 MB 655.8 kB/s eta 0:00:24\n",
      "   ---------------------------------------- 0.2/15.7 MB 654.4 kB/s eta 0:00:24\n",
      "    --------------------------------------- 0.3/15.7 MB 984.6 kB/s eta 0:00:16\n",
      "   - -------------------------------------- 0.4/15.7 MB 1.1 MB/s eta 0:00:15\n",
      "   - -------------------------------------- 0.6/15.7 MB 1.4 MB/s eta 0:00:12\n",
      "   - -------------------------------------- 0.6/15.7 MB 1.3 MB/s eta 0:00:12\n",
      "   -- ------------------------------------- 1.0/15.7 MB 1.9 MB/s eta 0:00:08\n",
      "   -- ------------------------------------- 1.0/15.7 MB 1.9 MB/s eta 0:00:08\n",
      "   --- ------------------------------------ 1.4/15.7 MB 2.2 MB/s eta 0:00:07\n",
      "   ---- ----------------------------------- 1.6/15.7 MB 2.5 MB/s eta 0:00:06\n",
      "   ---- ----------------------------------- 1.9/15.7 MB 2.6 MB/s eta 0:00:06\n",
      "   ----- ---------------------------------- 2.1/15.7 MB 2.8 MB/s eta 0:00:05\n",
      "   ----- ---------------------------------- 2.3/15.7 MB 2.9 MB/s eta 0:00:05\n",
      "   ------ --------------------------------- 2.5/15.7 MB 3.0 MB/s eta 0:00:05\n",
      "   ------ --------------------------------- 2.7/15.7 MB 3.0 MB/s eta 0:00:05\n",
      "   ------- -------------------------------- 2.8/15.7 MB 3.0 MB/s eta 0:00:05\n",
      "   ------- -------------------------------- 3.1/15.7 MB 3.1 MB/s eta 0:00:05\n",
      "   -------- ------------------------------- 3.4/15.7 MB 3.3 MB/s eta 0:00:04\n",
      "   --------- ------------------------------ 3.6/15.7 MB 3.3 MB/s eta 0:00:04\n",
      "   --------- ------------------------------ 3.7/15.7 MB 3.4 MB/s eta 0:00:04\n",
      "   --------- ------------------------------ 3.9/15.7 MB 3.3 MB/s eta 0:00:04\n",
      "   ---------- ----------------------------- 4.0/15.7 MB 3.3 MB/s eta 0:00:04\n",
      "   ---------- ----------------------------- 4.2/15.7 MB 3.3 MB/s eta 0:00:04\n",
      "   ---------- ----------------------------- 4.2/15.7 MB 3.2 MB/s eta 0:00:04\n",
      "   ------------ --------------------------- 5.0/15.7 MB 3.7 MB/s eta 0:00:03\n",
      "   ------------ --------------------------- 5.0/15.7 MB 3.6 MB/s eta 0:00:03\n",
      "   ------------- -------------------------- 5.3/15.7 MB 3.6 MB/s eta 0:00:03\n",
      "   -------------- ------------------------- 5.6/15.7 MB 3.7 MB/s eta 0:00:03\n",
      "   -------------- ------------------------- 5.7/15.7 MB 3.7 MB/s eta 0:00:03\n",
      "   -------------- ------------------------- 5.7/15.7 MB 3.6 MB/s eta 0:00:03\n",
      "   -------------- ------------------------- 5.7/15.7 MB 3.5 MB/s eta 0:00:03\n",
      "   -------------- ------------------------- 5.8/15.7 MB 3.4 MB/s eta 0:00:03\n",
      "   -------------- ------------------------- 5.8/15.7 MB 3.3 MB/s eta 0:00:03\n",
      "   -------------- ------------------------- 5.8/15.7 MB 3.3 MB/s eta 0:00:04\n",
      "   -------------- ------------------------- 5.9/15.7 MB 3.2 MB/s eta 0:00:04\n",
      "   --------------- ------------------------ 5.9/15.7 MB 3.2 MB/s eta 0:00:04\n",
      "   --------------- ------------------------ 6.0/15.7 MB 3.1 MB/s eta 0:00:04\n",
      "   --------------- ------------------------ 6.1/15.7 MB 3.1 MB/s eta 0:00:04\n",
      "   --------------- ------------------------ 6.3/15.7 MB 3.1 MB/s eta 0:00:04\n",
      "   ---------------- ----------------------- 6.4/15.7 MB 3.0 MB/s eta 0:00:04\n",
      "   ---------------- ----------------------- 6.5/15.7 MB 3.0 MB/s eta 0:00:04\n",
      "   ---------------- ----------------------- 6.7/15.7 MB 3.0 MB/s eta 0:00:03\n",
      "   ----------------- ---------------------- 6.9/15.7 MB 3.1 MB/s eta 0:00:03\n",
      "   ------------------ --------------------- 7.2/15.7 MB 3.2 MB/s eta 0:00:03\n",
      "   ------------------- -------------------- 7.6/15.7 MB 3.3 MB/s eta 0:00:03\n",
      "   -------------------- ------------------- 8.1/15.7 MB 3.4 MB/s eta 0:00:03\n",
      "   --------------------- ------------------ 8.4/15.7 MB 3.4 MB/s eta 0:00:03\n",
      "   ---------------------- ----------------- 8.7/15.7 MB 3.5 MB/s eta 0:00:03\n",
      "   ---------------------- ----------------- 8.7/15.7 MB 3.5 MB/s eta 0:00:03\n",
      "   ---------------------- ----------------- 8.9/15.7 MB 3.4 MB/s eta 0:00:02\n",
      "   ---------------------- ----------------- 9.0/15.7 MB 3.4 MB/s eta 0:00:02\n",
      "   ----------------------- ---------------- 9.1/15.7 MB 3.4 MB/s eta 0:00:02\n",
      "   ----------------------- ---------------- 9.3/15.7 MB 3.4 MB/s eta 0:00:02\n",
      "   ------------------------ --------------- 9.6/15.7 MB 3.5 MB/s eta 0:00:02\n",
      "   ------------------------- -------------- 10.1/15.7 MB 3.6 MB/s eta 0:00:02\n",
      "   -------------------------- ------------- 10.4/15.7 MB 3.8 MB/s eta 0:00:02\n",
      "   -------------------------- ------------- 10.5/15.7 MB 3.9 MB/s eta 0:00:02\n",
      "   --------------------------- ------------ 10.9/15.7 MB 4.2 MB/s eta 0:00:02\n",
      "   ----------------------------- ---------- 11.4/15.7 MB 4.3 MB/s eta 0:00:02\n",
      "   ----------------------------- ---------- 11.6/15.7 MB 4.2 MB/s eta 0:00:01\n",
      "   ------------------------------ --------- 11.9/15.7 MB 4.2 MB/s eta 0:00:01\n",
      "   ------------------------------- -------- 12.2/15.7 MB 4.3 MB/s eta 0:00:01\n",
      "   ------------------------------- -------- 12.5/15.7 MB 4.3 MB/s eta 0:00:01\n",
      "   ------------------------------- -------- 12.5/15.7 MB 4.2 MB/s eta 0:00:01\n",
      "   -------------------------------- ------- 12.6/15.7 MB 4.1 MB/s eta 0:00:01\n",
      "   -------------------------------- ------- 12.7/15.7 MB 4.1 MB/s eta 0:00:01\n",
      "   -------------------------------- ------- 12.9/15.7 MB 4.1 MB/s eta 0:00:01\n",
      "   --------------------------------- ------ 13.1/15.7 MB 4.1 MB/s eta 0:00:01\n",
      "   --------------------------------- ------ 13.3/15.7 MB 4.1 MB/s eta 0:00:01\n",
      "   ---------------------------------- ----- 13.4/15.7 MB 4.0 MB/s eta 0:00:01\n",
      "   ---------------------------------- ----- 13.6/15.7 MB 4.0 MB/s eta 0:00:01\n",
      "   ----------------------------------- ---- 14.0/15.7 MB 4.1 MB/s eta 0:00:01\n",
      "   ------------------------------------- -- 14.6/15.7 MB 4.4 MB/s eta 0:00:01\n",
      "   -------------------------------------- - 15.1/15.7 MB 4.3 MB/s eta 0:00:01\n",
      "   ---------------------------------------  15.6/15.7 MB 4.5 MB/s eta 0:00:01\n",
      "   ---------------------------------------  15.7/15.7 MB 4.5 MB/s eta 0:00:01\n",
      "   ---------------------------------------- 15.7/15.7 MB 4.4 MB/s eta 0:00:00\n",
      "Downloading tenacity-8.2.3-py3-none-any.whl (24 kB)\n",
      "Installing collected packages: tenacity, plotly\n",
      "Successfully installed plotly-5.20.0 tenacity-8.2.3\n"
     ]
    }
   ],
   "source": [
    "!pip install plotly"
   ]
  },
  {
   "cell_type": "code",
   "execution_count": 15,
   "id": "a220021a-10d1-47df-9d9f-dcd3926f02d0",
   "metadata": {},
   "outputs": [],
   "source": [
    "import plotly.express as px"
   ]
  },
  {
   "cell_type": "code",
   "execution_count": 21,
   "id": "cd1ac623-9e1e-4056-8cc2-e0ec796932e1",
   "metadata": {},
   "outputs": [],
   "source": [
    "import plotly.io as pio\n",
    "pio.renderers.default = 'iframe'"
   ]
  },
  {
   "cell_type": "code",
   "execution_count": 26,
   "id": "fdf91ac3-5e06-4b62-a8cb-f6a4c7b4b1f9",
   "metadata": {},
   "outputs": [],
   "source": [
    "import plotly"
   ]
  },
  {
   "cell_type": "code",
   "execution_count": 27,
   "id": "daddf232-2aa2-400d-8d56-dfc13cbef75d",
   "metadata": {},
   "outputs": [
    {
     "data": {
      "text/plain": [
       "'5.20.0'"
      ]
     },
     "execution_count": 27,
     "metadata": {},
     "output_type": "execute_result"
    }
   ],
   "source": [
    "plotly.__version__"
   ]
  },
  {
   "cell_type": "code",
   "execution_count": 23,
   "id": "3fabe248-27bb-4549-a3dd-08d6c843ca86",
   "metadata": {},
   "outputs": [
    {
     "data": {
      "text/html": [
       "<iframe\n",
       "    scrolling=\"no\"\n",
       "    width=\"100%\"\n",
       "    height=\"545px\"\n",
       "    src=\"iframe_figures/figure_23.html\"\n",
       "    frameborder=\"0\"\n",
       "    allowfullscreen\n",
       "></iframe>\n"
      ]
     },
     "metadata": {},
     "output_type": "display_data"
    }
   ],
   "source": [
    "px.line(df, y='Close')"
   ]
  },
  {
   "cell_type": "code",
   "execution_count": 28,
   "id": "8dea73a8-1c2a-4d24-9526-2f6d60635772",
   "metadata": {},
   "outputs": [
    {
     "data": {
      "text/html": [
       "<iframe\n",
       "    scrolling=\"no\"\n",
       "    width=\"100%\"\n",
       "    height=\"545px\"\n",
       "    src=\"iframe_figures/figure_28.html\"\n",
       "    frameborder=\"0\"\n",
       "    allowfullscreen\n",
       "></iframe>\n"
      ]
     },
     "metadata": {},
     "output_type": "display_data"
    }
   ],
   "source": [
    "px.line(df.tail(100), y='Close')"
   ]
  },
  {
   "cell_type": "code",
   "execution_count": 29,
   "id": "e22f796a-d3da-4fb7-bab2-4013611b468c",
   "metadata": {},
   "outputs": [],
   "source": [
    "fig = px.line(df.tail(100), y='Close')"
   ]
  },
  {
   "cell_type": "code",
   "execution_count": 30,
   "id": "ceb8d709-4b26-40cb-b35d-506320d2dfb1",
   "metadata": {},
   "outputs": [
    {
     "data": {
      "text/plain": [
       "plotly.graph_objs._figure.Figure"
      ]
     },
     "execution_count": 30,
     "metadata": {},
     "output_type": "execute_result"
    }
   ],
   "source": [
    "type(fig)"
   ]
  },
  {
   "cell_type": "code",
   "execution_count": 31,
   "id": "59780dad-9d97-4683-94ac-8faa23eba331",
   "metadata": {},
   "outputs": [
    {
     "data": {
      "text/html": [
       "<iframe\n",
       "    scrolling=\"no\"\n",
       "    width=\"100%\"\n",
       "    height=\"545px\"\n",
       "    src=\"iframe_figures/figure_31.html\"\n",
       "    frameborder=\"0\"\n",
       "    allowfullscreen\n",
       "></iframe>\n"
      ]
     },
     "metadata": {},
     "output_type": "display_data"
    }
   ],
   "source": [
    "fig.update_layout(yaxis_range=[400,1000])"
   ]
  },
  {
   "cell_type": "code",
   "execution_count": 32,
   "id": "cfcc73ab-4e8e-4084-a772-e4117afa85c8",
   "metadata": {
    "scrolled": true
   },
   "outputs": [
    {
     "name": "stdout",
     "output_type": "stream",
     "text": [
      "Figure({\n",
      "    'data': [{'hovertemplate': 'Date=%{x}<br>Close=%{y}<extra></extra>',\n",
      "              'legendgroup': '',\n",
      "              'line': {'color': '#636efa', 'dash': 'solid'},\n",
      "              'marker': {'symbol': 'circle'},\n",
      "              'mode': 'lines',\n",
      "              'name': '',\n",
      "              'orientation': 'v',\n",
      "              'showlegend': False,\n",
      "              'type': 'scatter',\n",
      "              'x': array([datetime.datetime(2023, 10, 18, 0, 0),\n",
      "                          datetime.datetime(2023, 10, 19, 0, 0),\n",
      "                          datetime.datetime(2023, 10, 20, 0, 0),\n",
      "                          datetime.datetime(2023, 10, 23, 0, 0),\n",
      "                          datetime.datetime(2023, 10, 24, 0, 0),\n",
      "                          datetime.datetime(2023, 10, 25, 0, 0),\n",
      "                          datetime.datetime(2023, 10, 26, 0, 0),\n",
      "                          datetime.datetime(2023, 10, 27, 0, 0),\n",
      "                          datetime.datetime(2023, 10, 30, 0, 0),\n",
      "                          datetime.datetime(2023, 10, 31, 0, 0),\n",
      "                          datetime.datetime(2023, 11, 1, 0, 0),\n",
      "                          datetime.datetime(2023, 11, 2, 0, 0),\n",
      "                          datetime.datetime(2023, 11, 3, 0, 0),\n",
      "                          datetime.datetime(2023, 11, 6, 0, 0),\n",
      "                          datetime.datetime(2023, 11, 7, 0, 0),\n",
      "                          datetime.datetime(2023, 11, 8, 0, 0),\n",
      "                          datetime.datetime(2023, 11, 9, 0, 0),\n",
      "                          datetime.datetime(2023, 11, 10, 0, 0),\n",
      "                          datetime.datetime(2023, 11, 13, 0, 0),\n",
      "                          datetime.datetime(2023, 11, 14, 0, 0),\n",
      "                          datetime.datetime(2023, 11, 15, 0, 0),\n",
      "                          datetime.datetime(2023, 11, 16, 0, 0),\n",
      "                          datetime.datetime(2023, 11, 17, 0, 0),\n",
      "                          datetime.datetime(2023, 11, 20, 0, 0),\n",
      "                          datetime.datetime(2023, 11, 21, 0, 0),\n",
      "                          datetime.datetime(2023, 11, 22, 0, 0),\n",
      "                          datetime.datetime(2023, 11, 23, 0, 0),\n",
      "                          datetime.datetime(2023, 11, 24, 0, 0),\n",
      "                          datetime.datetime(2023, 11, 27, 0, 0),\n",
      "                          datetime.datetime(2023, 11, 28, 0, 0),\n",
      "                          datetime.datetime(2023, 11, 29, 0, 0),\n",
      "                          datetime.datetime(2023, 11, 30, 0, 0),\n",
      "                          datetime.datetime(2023, 12, 1, 0, 0),\n",
      "                          datetime.datetime(2023, 12, 4, 0, 0),\n",
      "                          datetime.datetime(2023, 12, 5, 0, 0),\n",
      "                          datetime.datetime(2023, 12, 6, 0, 0),\n",
      "                          datetime.datetime(2023, 12, 7, 0, 0),\n",
      "                          datetime.datetime(2023, 12, 8, 0, 0),\n",
      "                          datetime.datetime(2023, 12, 11, 0, 0),\n",
      "                          datetime.datetime(2023, 12, 12, 0, 0),\n",
      "                          datetime.datetime(2023, 12, 13, 0, 0),\n",
      "                          datetime.datetime(2023, 12, 14, 0, 0),\n",
      "                          datetime.datetime(2023, 12, 15, 0, 0),\n",
      "                          datetime.datetime(2023, 12, 18, 0, 0),\n",
      "                          datetime.datetime(2023, 12, 19, 0, 0),\n",
      "                          datetime.datetime(2023, 12, 20, 0, 0),\n",
      "                          datetime.datetime(2023, 12, 21, 0, 0),\n",
      "                          datetime.datetime(2023, 12, 22, 0, 0),\n",
      "                          datetime.datetime(2023, 12, 25, 0, 0),\n",
      "                          datetime.datetime(2023, 12, 26, 0, 0),\n",
      "                          datetime.datetime(2023, 12, 27, 0, 0),\n",
      "                          datetime.datetime(2023, 12, 28, 0, 0),\n",
      "                          datetime.datetime(2023, 12, 29, 0, 0),\n",
      "                          datetime.datetime(2024, 1, 2, 0, 0),\n",
      "                          datetime.datetime(2024, 1, 3, 0, 0),\n",
      "                          datetime.datetime(2024, 1, 4, 0, 0),\n",
      "                          datetime.datetime(2024, 1, 5, 0, 0),\n",
      "                          datetime.datetime(2024, 1, 8, 0, 0),\n",
      "                          datetime.datetime(2024, 1, 9, 0, 0),\n",
      "                          datetime.datetime(2024, 1, 10, 0, 0),\n",
      "                          datetime.datetime(2024, 1, 11, 0, 0),\n",
      "                          datetime.datetime(2024, 1, 12, 0, 0),\n",
      "                          datetime.datetime(2024, 1, 15, 0, 0),\n",
      "                          datetime.datetime(2024, 1, 16, 0, 0),\n",
      "                          datetime.datetime(2024, 1, 17, 0, 0),\n",
      "                          datetime.datetime(2024, 1, 18, 0, 0),\n",
      "                          datetime.datetime(2024, 1, 19, 0, 0),\n",
      "                          datetime.datetime(2024, 1, 22, 0, 0),\n",
      "                          datetime.datetime(2024, 1, 23, 0, 0),\n",
      "                          datetime.datetime(2024, 1, 24, 0, 0),\n",
      "                          datetime.datetime(2024, 1, 25, 0, 0),\n",
      "                          datetime.datetime(2024, 1, 26, 0, 0),\n",
      "                          datetime.datetime(2024, 1, 29, 0, 0),\n",
      "                          datetime.datetime(2024, 1, 30, 0, 0),\n",
      "                          datetime.datetime(2024, 1, 31, 0, 0),\n",
      "                          datetime.datetime(2024, 2, 1, 0, 0),\n",
      "                          datetime.datetime(2024, 2, 2, 0, 0),\n",
      "                          datetime.datetime(2024, 2, 5, 0, 0),\n",
      "                          datetime.datetime(2024, 2, 15, 0, 0),\n",
      "                          datetime.datetime(2024, 2, 16, 0, 0),\n",
      "                          datetime.datetime(2024, 2, 19, 0, 0),\n",
      "                          datetime.datetime(2024, 2, 20, 0, 0),\n",
      "                          datetime.datetime(2024, 2, 21, 0, 0),\n",
      "                          datetime.datetime(2024, 2, 22, 0, 0),\n",
      "                          datetime.datetime(2024, 2, 23, 0, 0),\n",
      "                          datetime.datetime(2024, 2, 26, 0, 0),\n",
      "                          datetime.datetime(2024, 2, 27, 0, 0),\n",
      "                          datetime.datetime(2024, 2, 29, 0, 0),\n",
      "                          datetime.datetime(2024, 3, 1, 0, 0),\n",
      "                          datetime.datetime(2024, 3, 4, 0, 0),\n",
      "                          datetime.datetime(2024, 3, 5, 0, 0),\n",
      "                          datetime.datetime(2024, 3, 6, 0, 0),\n",
      "                          datetime.datetime(2024, 3, 7, 0, 0),\n",
      "                          datetime.datetime(2024, 3, 8, 0, 0),\n",
      "                          datetime.datetime(2024, 3, 11, 0, 0),\n",
      "                          datetime.datetime(2024, 3, 12, 0, 0),\n",
      "                          datetime.datetime(2024, 3, 13, 0, 0),\n",
      "                          datetime.datetime(2024, 3, 14, 0, 0),\n",
      "                          datetime.datetime(2024, 3, 15, 0, 0),\n",
      "                          datetime.datetime(2024, 3, 18, 0, 0)], dtype=object),\n",
      "              'xaxis': 'x',\n",
      "              'y': array([540., 546., 556., 544., 544., 544., 531., 533., 532., 529., 528., 547.,\n",
      "                          549., 550., 555., 556., 557., 557., 571., 572., 581., 583., 580., 577.,\n",
      "                          585., 577., 578., 575., 568., 575., 574., 577., 579., 574., 570., 570.,\n",
      "                          566., 570., 574., 578., 577., 582., 585., 585., 585., 585., 577., 582.,\n",
      "                          581., 586., 592., 593., 593., 593., 578., 580., 576., 583., 586., 584.,\n",
      "                          586., 584., 586., 580., 581., 588., 626., 626., 628., 627., 642., 644.,\n",
      "                          648., 642., 628., 628., 635., 646., 697., 683., 678., 687., 681., 692.,\n",
      "                          697., 698., 698., 690., 689., 725., 730., 735., 760., 784., 766., 770.,\n",
      "                          779., 784., 753., 764.]),\n",
      "              'yaxis': 'y'}],\n",
      "    'layout': {'legend': {'tracegroupgap': 0},\n",
      "               'margin': {'t': 60},\n",
      "               'template': '...',\n",
      "               'xaxis': {'anchor': 'y', 'domain': [0.0, 1.0], 'title': {'text': 'Date'}},\n",
      "               'yaxis': {'anchor': 'x', 'domain': [0.0, 1.0], 'range': [400, 1000], 'title': {'text': 'Close'}}}\n",
      "})\n"
     ]
    }
   ],
   "source": [
    "print(fig)"
   ]
  },
  {
   "cell_type": "markdown",
   "id": "e2c85c7f-cf9d-488f-a3e2-2e517c0fa9bd",
   "metadata": {},
   "source": [
    "## 計算今年以來的投資報酬率"
   ]
  },
  {
   "cell_type": "code",
   "execution_count": 33,
   "id": "f8eeffbf-73dc-4d05-ace7-b475862b0cb7",
   "metadata": {},
   "outputs": [
    {
     "data": {
      "text/html": [
       "<div>\n",
       "<style scoped>\n",
       "    .dataframe tbody tr th:only-of-type {\n",
       "        vertical-align: middle;\n",
       "    }\n",
       "\n",
       "    .dataframe tbody tr th {\n",
       "        vertical-align: top;\n",
       "    }\n",
       "\n",
       "    .dataframe thead th {\n",
       "        text-align: right;\n",
       "    }\n",
       "</style>\n",
       "<table border=\"1\" class=\"dataframe\">\n",
       "  <thead>\n",
       "    <tr style=\"text-align: right;\">\n",
       "      <th></th>\n",
       "      <th>Open</th>\n",
       "      <th>High</th>\n",
       "      <th>Low</th>\n",
       "      <th>Close</th>\n",
       "      <th>Adj Close</th>\n",
       "      <th>Volume</th>\n",
       "    </tr>\n",
       "    <tr>\n",
       "      <th>Date</th>\n",
       "      <th></th>\n",
       "      <th></th>\n",
       "      <th></th>\n",
       "      <th></th>\n",
       "      <th></th>\n",
       "      <th></th>\n",
       "    </tr>\n",
       "  </thead>\n",
       "  <tbody>\n",
       "    <tr>\n",
       "      <th>2024-01-02</th>\n",
       "      <td>590.0</td>\n",
       "      <td>593.0</td>\n",
       "      <td>589.0</td>\n",
       "      <td>593.0</td>\n",
       "      <td>590.243713</td>\n",
       "      <td>26059058</td>\n",
       "    </tr>\n",
       "    <tr>\n",
       "      <th>2024-01-03</th>\n",
       "      <td>584.0</td>\n",
       "      <td>585.0</td>\n",
       "      <td>576.0</td>\n",
       "      <td>578.0</td>\n",
       "      <td>575.313416</td>\n",
       "      <td>37106763</td>\n",
       "    </tr>\n",
       "    <tr>\n",
       "      <th>2024-01-04</th>\n",
       "      <td>580.0</td>\n",
       "      <td>581.0</td>\n",
       "      <td>577.0</td>\n",
       "      <td>580.0</td>\n",
       "      <td>577.304138</td>\n",
       "      <td>15309129</td>\n",
       "    </tr>\n",
       "    <tr>\n",
       "      <th>2024-01-05</th>\n",
       "      <td>578.0</td>\n",
       "      <td>580.0</td>\n",
       "      <td>574.0</td>\n",
       "      <td>576.0</td>\n",
       "      <td>573.322693</td>\n",
       "      <td>18158971</td>\n",
       "    </tr>\n",
       "    <tr>\n",
       "      <th>2024-01-08</th>\n",
       "      <td>582.0</td>\n",
       "      <td>585.0</td>\n",
       "      <td>579.0</td>\n",
       "      <td>583.0</td>\n",
       "      <td>580.290161</td>\n",
       "      <td>17761275</td>\n",
       "    </tr>\n",
       "    <tr>\n",
       "      <th>2024-01-09</th>\n",
       "      <td>588.0</td>\n",
       "      <td>589.0</td>\n",
       "      <td>583.0</td>\n",
       "      <td>586.0</td>\n",
       "      <td>583.276245</td>\n",
       "      <td>22501510</td>\n",
       "    </tr>\n",
       "    <tr>\n",
       "      <th>2024-01-10</th>\n",
       "      <td>581.0</td>\n",
       "      <td>586.0</td>\n",
       "      <td>580.0</td>\n",
       "      <td>584.0</td>\n",
       "      <td>581.285522</td>\n",
       "      <td>13037716</td>\n",
       "    </tr>\n",
       "    <tr>\n",
       "      <th>2024-01-11</th>\n",
       "      <td>586.0</td>\n",
       "      <td>589.0</td>\n",
       "      <td>583.0</td>\n",
       "      <td>586.0</td>\n",
       "      <td>583.276245</td>\n",
       "      <td>23997409</td>\n",
       "    </tr>\n",
       "    <tr>\n",
       "      <th>2024-01-12</th>\n",
       "      <td>581.0</td>\n",
       "      <td>588.0</td>\n",
       "      <td>581.0</td>\n",
       "      <td>584.0</td>\n",
       "      <td>581.285522</td>\n",
       "      <td>16496053</td>\n",
       "    </tr>\n",
       "    <tr>\n",
       "      <th>2024-01-15</th>\n",
       "      <td>590.0</td>\n",
       "      <td>590.0</td>\n",
       "      <td>585.0</td>\n",
       "      <td>586.0</td>\n",
       "      <td>583.276245</td>\n",
       "      <td>21143076</td>\n",
       "    </tr>\n",
       "    <tr>\n",
       "      <th>2024-01-16</th>\n",
       "      <td>581.0</td>\n",
       "      <td>588.0</td>\n",
       "      <td>579.0</td>\n",
       "      <td>580.0</td>\n",
       "      <td>577.304138</td>\n",
       "      <td>27223860</td>\n",
       "    </tr>\n",
       "    <tr>\n",
       "      <th>2024-01-17</th>\n",
       "      <td>583.0</td>\n",
       "      <td>584.0</td>\n",
       "      <td>578.0</td>\n",
       "      <td>581.0</td>\n",
       "      <td>578.299438</td>\n",
       "      <td>42592335</td>\n",
       "    </tr>\n",
       "    <tr>\n",
       "      <th>2024-01-18</th>\n",
       "      <td>586.0</td>\n",
       "      <td>589.0</td>\n",
       "      <td>585.0</td>\n",
       "      <td>588.0</td>\n",
       "      <td>585.266907</td>\n",
       "      <td>27209996</td>\n",
       "    </tr>\n",
       "    <tr>\n",
       "      <th>2024-01-19</th>\n",
       "      <td>625.0</td>\n",
       "      <td>627.0</td>\n",
       "      <td>614.0</td>\n",
       "      <td>626.0</td>\n",
       "      <td>623.090271</td>\n",
       "      <td>161106401</td>\n",
       "    </tr>\n",
       "    <tr>\n",
       "      <th>2024-01-22</th>\n",
       "      <td>633.0</td>\n",
       "      <td>633.0</td>\n",
       "      <td>623.0</td>\n",
       "      <td>626.0</td>\n",
       "      <td>623.090271</td>\n",
       "      <td>65168775</td>\n",
       "    </tr>\n",
       "    <tr>\n",
       "      <th>2024-01-23</th>\n",
       "      <td>629.0</td>\n",
       "      <td>629.0</td>\n",
       "      <td>622.0</td>\n",
       "      <td>628.0</td>\n",
       "      <td>625.080994</td>\n",
       "      <td>41072439</td>\n",
       "    </tr>\n",
       "    <tr>\n",
       "      <th>2024-01-24</th>\n",
       "      <td>628.0</td>\n",
       "      <td>630.0</td>\n",
       "      <td>624.0</td>\n",
       "      <td>627.0</td>\n",
       "      <td>624.085632</td>\n",
       "      <td>26635005</td>\n",
       "    </tr>\n",
       "    <tr>\n",
       "      <th>2024-01-25</th>\n",
       "      <td>635.0</td>\n",
       "      <td>642.0</td>\n",
       "      <td>633.0</td>\n",
       "      <td>642.0</td>\n",
       "      <td>639.015930</td>\n",
       "      <td>52243347</td>\n",
       "    </tr>\n",
       "    <tr>\n",
       "      <th>2024-01-26</th>\n",
       "      <td>644.0</td>\n",
       "      <td>646.0</td>\n",
       "      <td>639.0</td>\n",
       "      <td>644.0</td>\n",
       "      <td>641.006653</td>\n",
       "      <td>41153025</td>\n",
       "    </tr>\n",
       "    <tr>\n",
       "      <th>2024-01-29</th>\n",
       "      <td>646.0</td>\n",
       "      <td>648.0</td>\n",
       "      <td>644.0</td>\n",
       "      <td>648.0</td>\n",
       "      <td>644.988037</td>\n",
       "      <td>27825490</td>\n",
       "    </tr>\n",
       "    <tr>\n",
       "      <th>2024-01-30</th>\n",
       "      <td>642.0</td>\n",
       "      <td>647.0</td>\n",
       "      <td>642.0</td>\n",
       "      <td>642.0</td>\n",
       "      <td>639.015930</td>\n",
       "      <td>36161825</td>\n",
       "    </tr>\n",
       "    <tr>\n",
       "      <th>2024-01-31</th>\n",
       "      <td>634.0</td>\n",
       "      <td>637.0</td>\n",
       "      <td>626.0</td>\n",
       "      <td>628.0</td>\n",
       "      <td>625.080994</td>\n",
       "      <td>41277950</td>\n",
       "    </tr>\n",
       "    <tr>\n",
       "      <th>2024-02-01</th>\n",
       "      <td>625.0</td>\n",
       "      <td>628.0</td>\n",
       "      <td>619.0</td>\n",
       "      <td>628.0</td>\n",
       "      <td>625.080994</td>\n",
       "      <td>44946369</td>\n",
       "    </tr>\n",
       "    <tr>\n",
       "      <th>2024-02-02</th>\n",
       "      <td>633.0</td>\n",
       "      <td>635.0</td>\n",
       "      <td>628.0</td>\n",
       "      <td>635.0</td>\n",
       "      <td>632.048462</td>\n",
       "      <td>26334815</td>\n",
       "    </tr>\n",
       "    <tr>\n",
       "      <th>2024-02-05</th>\n",
       "      <td>645.0</td>\n",
       "      <td>647.0</td>\n",
       "      <td>638.0</td>\n",
       "      <td>646.0</td>\n",
       "      <td>642.997314</td>\n",
       "      <td>44017740</td>\n",
       "    </tr>\n",
       "    <tr>\n",
       "      <th>2024-02-15</th>\n",
       "      <td>709.0</td>\n",
       "      <td>709.0</td>\n",
       "      <td>693.0</td>\n",
       "      <td>697.0</td>\n",
       "      <td>693.760254</td>\n",
       "      <td>112945296</td>\n",
       "    </tr>\n",
       "    <tr>\n",
       "      <th>2024-02-16</th>\n",
       "      <td>697.0</td>\n",
       "      <td>699.0</td>\n",
       "      <td>683.0</td>\n",
       "      <td>683.0</td>\n",
       "      <td>679.825378</td>\n",
       "      <td>44232811</td>\n",
       "    </tr>\n",
       "    <tr>\n",
       "      <th>2024-02-19</th>\n",
       "      <td>674.0</td>\n",
       "      <td>682.0</td>\n",
       "      <td>674.0</td>\n",
       "      <td>678.0</td>\n",
       "      <td>674.848572</td>\n",
       "      <td>34408673</td>\n",
       "    </tr>\n",
       "    <tr>\n",
       "      <th>2024-02-20</th>\n",
       "      <td>675.0</td>\n",
       "      <td>688.0</td>\n",
       "      <td>675.0</td>\n",
       "      <td>687.0</td>\n",
       "      <td>683.806763</td>\n",
       "      <td>30166461</td>\n",
       "    </tr>\n",
       "    <tr>\n",
       "      <th>2024-02-21</th>\n",
       "      <td>678.0</td>\n",
       "      <td>683.0</td>\n",
       "      <td>678.0</td>\n",
       "      <td>681.0</td>\n",
       "      <td>677.834656</td>\n",
       "      <td>30564485</td>\n",
       "    </tr>\n",
       "    <tr>\n",
       "      <th>2024-02-22</th>\n",
       "      <td>695.0</td>\n",
       "      <td>695.0</td>\n",
       "      <td>685.0</td>\n",
       "      <td>692.0</td>\n",
       "      <td>688.783508</td>\n",
       "      <td>33145643</td>\n",
       "    </tr>\n",
       "    <tr>\n",
       "      <th>2024-02-23</th>\n",
       "      <td>701.0</td>\n",
       "      <td>703.0</td>\n",
       "      <td>696.0</td>\n",
       "      <td>697.0</td>\n",
       "      <td>693.760254</td>\n",
       "      <td>46448923</td>\n",
       "    </tr>\n",
       "    <tr>\n",
       "      <th>2024-02-26</th>\n",
       "      <td>700.0</td>\n",
       "      <td>700.0</td>\n",
       "      <td>695.0</td>\n",
       "      <td>698.0</td>\n",
       "      <td>694.755615</td>\n",
       "      <td>28798079</td>\n",
       "    </tr>\n",
       "    <tr>\n",
       "      <th>2024-02-27</th>\n",
       "      <td>700.0</td>\n",
       "      <td>701.0</td>\n",
       "      <td>691.0</td>\n",
       "      <td>698.0</td>\n",
       "      <td>694.755615</td>\n",
       "      <td>33006829</td>\n",
       "    </tr>\n",
       "    <tr>\n",
       "      <th>2024-02-29</th>\n",
       "      <td>691.0</td>\n",
       "      <td>698.0</td>\n",
       "      <td>688.0</td>\n",
       "      <td>690.0</td>\n",
       "      <td>686.792847</td>\n",
       "      <td>54368302</td>\n",
       "    </tr>\n",
       "    <tr>\n",
       "      <th>2024-03-01</th>\n",
       "      <td>697.0</td>\n",
       "      <td>697.0</td>\n",
       "      <td>688.0</td>\n",
       "      <td>689.0</td>\n",
       "      <td>685.797485</td>\n",
       "      <td>23390635</td>\n",
       "    </tr>\n",
       "    <tr>\n",
       "      <th>2024-03-04</th>\n",
       "      <td>714.0</td>\n",
       "      <td>725.0</td>\n",
       "      <td>711.0</td>\n",
       "      <td>725.0</td>\n",
       "      <td>721.630127</td>\n",
       "      <td>88861397</td>\n",
       "    </tr>\n",
       "    <tr>\n",
       "      <th>2024-03-05</th>\n",
       "      <td>735.0</td>\n",
       "      <td>738.0</td>\n",
       "      <td>728.0</td>\n",
       "      <td>730.0</td>\n",
       "      <td>726.606873</td>\n",
       "      <td>64403889</td>\n",
       "    </tr>\n",
       "    <tr>\n",
       "      <th>2024-03-06</th>\n",
       "      <td>718.0</td>\n",
       "      <td>738.0</td>\n",
       "      <td>717.0</td>\n",
       "      <td>735.0</td>\n",
       "      <td>731.583679</td>\n",
       "      <td>43687122</td>\n",
       "    </tr>\n",
       "    <tr>\n",
       "      <th>2024-03-07</th>\n",
       "      <td>755.0</td>\n",
       "      <td>769.0</td>\n",
       "      <td>754.0</td>\n",
       "      <td>760.0</td>\n",
       "      <td>756.467468</td>\n",
       "      <td>71817344</td>\n",
       "    </tr>\n",
       "    <tr>\n",
       "      <th>2024-03-08</th>\n",
       "      <td>795.0</td>\n",
       "      <td>796.0</td>\n",
       "      <td>772.0</td>\n",
       "      <td>784.0</td>\n",
       "      <td>780.355896</td>\n",
       "      <td>87139744</td>\n",
       "    </tr>\n",
       "    <tr>\n",
       "      <th>2024-03-11</th>\n",
       "      <td>768.0</td>\n",
       "      <td>778.0</td>\n",
       "      <td>761.0</td>\n",
       "      <td>766.0</td>\n",
       "      <td>762.439575</td>\n",
       "      <td>64759810</td>\n",
       "    </tr>\n",
       "    <tr>\n",
       "      <th>2024-03-12</th>\n",
       "      <td>757.0</td>\n",
       "      <td>771.0</td>\n",
       "      <td>754.0</td>\n",
       "      <td>770.0</td>\n",
       "      <td>766.420959</td>\n",
       "      <td>58110339</td>\n",
       "    </tr>\n",
       "    <tr>\n",
       "      <th>2024-03-13</th>\n",
       "      <td>785.0</td>\n",
       "      <td>785.0</td>\n",
       "      <td>777.0</td>\n",
       "      <td>779.0</td>\n",
       "      <td>775.379150</td>\n",
       "      <td>36754557</td>\n",
       "    </tr>\n",
       "    <tr>\n",
       "      <th>2024-03-14</th>\n",
       "      <td>779.0</td>\n",
       "      <td>785.0</td>\n",
       "      <td>770.0</td>\n",
       "      <td>784.0</td>\n",
       "      <td>780.355896</td>\n",
       "      <td>42010806</td>\n",
       "    </tr>\n",
       "    <tr>\n",
       "      <th>2024-03-15</th>\n",
       "      <td>771.0</td>\n",
       "      <td>777.0</td>\n",
       "      <td>753.0</td>\n",
       "      <td>753.0</td>\n",
       "      <td>749.500000</td>\n",
       "      <td>73316437</td>\n",
       "    </tr>\n",
       "    <tr>\n",
       "      <th>2024-03-18</th>\n",
       "      <td>754.0</td>\n",
       "      <td>765.0</td>\n",
       "      <td>754.0</td>\n",
       "      <td>764.0</td>\n",
       "      <td>764.000000</td>\n",
       "      <td>44211544</td>\n",
       "    </tr>\n",
       "  </tbody>\n",
       "</table>\n",
       "</div>"
      ],
      "text/plain": [
       "             Open   High    Low  Close   Adj Close     Volume\n",
       "Date                                                         \n",
       "2024-01-02  590.0  593.0  589.0  593.0  590.243713   26059058\n",
       "2024-01-03  584.0  585.0  576.0  578.0  575.313416   37106763\n",
       "2024-01-04  580.0  581.0  577.0  580.0  577.304138   15309129\n",
       "2024-01-05  578.0  580.0  574.0  576.0  573.322693   18158971\n",
       "2024-01-08  582.0  585.0  579.0  583.0  580.290161   17761275\n",
       "2024-01-09  588.0  589.0  583.0  586.0  583.276245   22501510\n",
       "2024-01-10  581.0  586.0  580.0  584.0  581.285522   13037716\n",
       "2024-01-11  586.0  589.0  583.0  586.0  583.276245   23997409\n",
       "2024-01-12  581.0  588.0  581.0  584.0  581.285522   16496053\n",
       "2024-01-15  590.0  590.0  585.0  586.0  583.276245   21143076\n",
       "2024-01-16  581.0  588.0  579.0  580.0  577.304138   27223860\n",
       "2024-01-17  583.0  584.0  578.0  581.0  578.299438   42592335\n",
       "2024-01-18  586.0  589.0  585.0  588.0  585.266907   27209996\n",
       "2024-01-19  625.0  627.0  614.0  626.0  623.090271  161106401\n",
       "2024-01-22  633.0  633.0  623.0  626.0  623.090271   65168775\n",
       "2024-01-23  629.0  629.0  622.0  628.0  625.080994   41072439\n",
       "2024-01-24  628.0  630.0  624.0  627.0  624.085632   26635005\n",
       "2024-01-25  635.0  642.0  633.0  642.0  639.015930   52243347\n",
       "2024-01-26  644.0  646.0  639.0  644.0  641.006653   41153025\n",
       "2024-01-29  646.0  648.0  644.0  648.0  644.988037   27825490\n",
       "2024-01-30  642.0  647.0  642.0  642.0  639.015930   36161825\n",
       "2024-01-31  634.0  637.0  626.0  628.0  625.080994   41277950\n",
       "2024-02-01  625.0  628.0  619.0  628.0  625.080994   44946369\n",
       "2024-02-02  633.0  635.0  628.0  635.0  632.048462   26334815\n",
       "2024-02-05  645.0  647.0  638.0  646.0  642.997314   44017740\n",
       "2024-02-15  709.0  709.0  693.0  697.0  693.760254  112945296\n",
       "2024-02-16  697.0  699.0  683.0  683.0  679.825378   44232811\n",
       "2024-02-19  674.0  682.0  674.0  678.0  674.848572   34408673\n",
       "2024-02-20  675.0  688.0  675.0  687.0  683.806763   30166461\n",
       "2024-02-21  678.0  683.0  678.0  681.0  677.834656   30564485\n",
       "2024-02-22  695.0  695.0  685.0  692.0  688.783508   33145643\n",
       "2024-02-23  701.0  703.0  696.0  697.0  693.760254   46448923\n",
       "2024-02-26  700.0  700.0  695.0  698.0  694.755615   28798079\n",
       "2024-02-27  700.0  701.0  691.0  698.0  694.755615   33006829\n",
       "2024-02-29  691.0  698.0  688.0  690.0  686.792847   54368302\n",
       "2024-03-01  697.0  697.0  688.0  689.0  685.797485   23390635\n",
       "2024-03-04  714.0  725.0  711.0  725.0  721.630127   88861397\n",
       "2024-03-05  735.0  738.0  728.0  730.0  726.606873   64403889\n",
       "2024-03-06  718.0  738.0  717.0  735.0  731.583679   43687122\n",
       "2024-03-07  755.0  769.0  754.0  760.0  756.467468   71817344\n",
       "2024-03-08  795.0  796.0  772.0  784.0  780.355896   87139744\n",
       "2024-03-11  768.0  778.0  761.0  766.0  762.439575   64759810\n",
       "2024-03-12  757.0  771.0  754.0  770.0  766.420959   58110339\n",
       "2024-03-13  785.0  785.0  777.0  779.0  775.379150   36754557\n",
       "2024-03-14  779.0  785.0  770.0  784.0  780.355896   42010806\n",
       "2024-03-15  771.0  777.0  753.0  753.0  749.500000   73316437\n",
       "2024-03-18  754.0  765.0  754.0  764.0  764.000000   44211544"
      ]
     },
     "execution_count": 33,
     "metadata": {},
     "output_type": "execute_result"
    }
   ],
   "source": [
    "df.loc['2024']"
   ]
  },
  {
   "cell_type": "code",
   "execution_count": 34,
   "id": "0ce4137c-ed94-472b-ba58-709d7ee4309b",
   "metadata": {},
   "outputs": [
    {
     "data": {
      "text/plain": [
       "Date\n",
       "2024-01-02    593.0\n",
       "2024-01-03    578.0\n",
       "2024-01-04    580.0\n",
       "2024-01-05    576.0\n",
       "2024-01-08    583.0\n",
       "2024-01-09    586.0\n",
       "2024-01-10    584.0\n",
       "2024-01-11    586.0\n",
       "2024-01-12    584.0\n",
       "2024-01-15    586.0\n",
       "2024-01-16    580.0\n",
       "2024-01-17    581.0\n",
       "2024-01-18    588.0\n",
       "2024-01-19    626.0\n",
       "2024-01-22    626.0\n",
       "2024-01-23    628.0\n",
       "2024-01-24    627.0\n",
       "2024-01-25    642.0\n",
       "2024-01-26    644.0\n",
       "2024-01-29    648.0\n",
       "2024-01-30    642.0\n",
       "2024-01-31    628.0\n",
       "2024-02-01    628.0\n",
       "2024-02-02    635.0\n",
       "2024-02-05    646.0\n",
       "2024-02-15    697.0\n",
       "2024-02-16    683.0\n",
       "2024-02-19    678.0\n",
       "2024-02-20    687.0\n",
       "2024-02-21    681.0\n",
       "2024-02-22    692.0\n",
       "2024-02-23    697.0\n",
       "2024-02-26    698.0\n",
       "2024-02-27    698.0\n",
       "2024-02-29    690.0\n",
       "2024-03-01    689.0\n",
       "2024-03-04    725.0\n",
       "2024-03-05    730.0\n",
       "2024-03-06    735.0\n",
       "2024-03-07    760.0\n",
       "2024-03-08    784.0\n",
       "2024-03-11    766.0\n",
       "2024-03-12    770.0\n",
       "2024-03-13    779.0\n",
       "2024-03-14    784.0\n",
       "2024-03-15    753.0\n",
       "2024-03-18    764.0\n",
       "Name: Close, dtype: float64"
      ]
     },
     "execution_count": 34,
     "metadata": {},
     "output_type": "execute_result"
    }
   ],
   "source": [
    "df.loc['2024']['Close']"
   ]
  },
  {
   "cell_type": "code",
   "execution_count": 35,
   "id": "655d3af0-5ea7-4d0f-bbc0-61cd16aa9dc3",
   "metadata": {},
   "outputs": [
    {
     "data": {
      "text/plain": [
       "Date\n",
       "2024-01-02    593.0\n",
       "2024-01-03    578.0\n",
       "2024-01-04    580.0\n",
       "2024-01-05    576.0\n",
       "2024-01-08    583.0\n",
       "2024-01-09    586.0\n",
       "2024-01-10    584.0\n",
       "2024-01-11    586.0\n",
       "2024-01-12    584.0\n",
       "2024-01-15    586.0\n",
       "2024-01-16    580.0\n",
       "2024-01-17    581.0\n",
       "2024-01-18    588.0\n",
       "2024-01-19    626.0\n",
       "2024-01-22    626.0\n",
       "2024-01-23    628.0\n",
       "2024-01-24    627.0\n",
       "2024-01-25    642.0\n",
       "2024-01-26    644.0\n",
       "2024-01-29    648.0\n",
       "2024-01-30    642.0\n",
       "2024-01-31    628.0\n",
       "2024-02-01    628.0\n",
       "2024-02-02    635.0\n",
       "2024-02-05    646.0\n",
       "2024-02-15    697.0\n",
       "2024-02-16    683.0\n",
       "2024-02-19    678.0\n",
       "2024-02-20    687.0\n",
       "2024-02-21    681.0\n",
       "2024-02-22    692.0\n",
       "2024-02-23    697.0\n",
       "2024-02-26    698.0\n",
       "2024-02-27    698.0\n",
       "2024-02-29    690.0\n",
       "2024-03-01    689.0\n",
       "2024-03-04    725.0\n",
       "2024-03-05    730.0\n",
       "2024-03-06    735.0\n",
       "2024-03-07    760.0\n",
       "2024-03-08    784.0\n",
       "2024-03-11    766.0\n",
       "2024-03-12    770.0\n",
       "2024-03-13    779.0\n",
       "2024-03-14    784.0\n",
       "2024-03-15    753.0\n",
       "2024-03-18    764.0\n",
       "Name: Close, dtype: float64"
      ]
     },
     "execution_count": 35,
     "metadata": {},
     "output_type": "execute_result"
    }
   ],
   "source": [
    "df.loc['2024'].Close"
   ]
  },
  {
   "cell_type": "code",
   "execution_count": 37,
   "id": "2c01f380-c0ea-4369-b7eb-c90321922411",
   "metadata": {},
   "outputs": [
    {
     "name": "stderr",
     "output_type": "stream",
     "text": [
      "C:\\Users\\Victor\\AppData\\Local\\Temp\\ipykernel_24972\\1005693573.py:1: FutureWarning:\n",
      "\n",
      "Series.__getitem__ treating keys as positions is deprecated. In a future version, integer keys will always be treated as labels (consistent with DataFrame behavior). To access a value by position, use `ser.iloc[pos]`\n",
      "\n"
     ]
    },
    {
     "data": {
      "text/plain": [
       "1.2883642495784149"
      ]
     },
     "execution_count": 37,
     "metadata": {},
     "output_type": "execute_result"
    }
   ],
   "source": [
    "df.loc['2024']['Close'][-1]/df.loc['2024']['Close'][0]"
   ]
  },
  {
   "cell_type": "code",
   "execution_count": 38,
   "id": "487bba63-219d-40b8-8bff-777a56936e67",
   "metadata": {},
   "outputs": [
    {
     "data": {
      "text/plain": [
       "1.2883642495784149"
      ]
     },
     "execution_count": 38,
     "metadata": {},
     "output_type": "execute_result"
    }
   ],
   "source": [
    "df.loc['2024']['Close'].iloc[-1]/df.loc['2024']['Close'].iloc[0]"
   ]
  },
  {
   "cell_type": "markdown",
   "id": "980a7429-ab7c-4a39-86f4-fe9be10b98cd",
   "metadata": {},
   "source": [
    "## side project: 爬蟲練習"
   ]
  },
  {
   "cell_type": "code",
   "execution_count": 39,
   "id": "db2465d2-82d3-4fe7-abaa-07499faaba42",
   "metadata": {},
   "outputs": [],
   "source": [
    "url = \"https://viewer.ebookservice.tw/api/img?p={}&f=jpg&r=150&preferWidth=898&preferHeight=1707&bookId=c4e83487-dd0d-4dee-9345-f6fc36455210&token=ESPRESSO-c4e83487-dd0d-4dee-9345-f6fc36455210&bookToken=null\""
   ]
  },
  {
   "cell_type": "code",
   "execution_count": 40,
   "id": "3103a350-451c-4dfb-9fd6-80672c1f05b1",
   "metadata": {
    "collapsed": true,
    "jupyter": {
     "outputs_hidden": true
    }
   },
   "outputs": [
    {
     "name": "stdout",
     "output_type": "stream",
     "text": [
      "https://viewer.ebookservice.tw/api/img?p=101&f=jpg&r=150&preferWidth=898&preferHeight=1707&bookId=c4e83487-dd0d-4dee-9345-f6fc36455210&token=ESPRESSO-c4e83487-dd0d-4dee-9345-f6fc36455210&bookToken=null\n",
      "https://viewer.ebookservice.tw/api/img?p=102&f=jpg&r=150&preferWidth=898&preferHeight=1707&bookId=c4e83487-dd0d-4dee-9345-f6fc36455210&token=ESPRESSO-c4e83487-dd0d-4dee-9345-f6fc36455210&bookToken=null\n",
      "https://viewer.ebookservice.tw/api/img?p=103&f=jpg&r=150&preferWidth=898&preferHeight=1707&bookId=c4e83487-dd0d-4dee-9345-f6fc36455210&token=ESPRESSO-c4e83487-dd0d-4dee-9345-f6fc36455210&bookToken=null\n",
      "https://viewer.ebookservice.tw/api/img?p=104&f=jpg&r=150&preferWidth=898&preferHeight=1707&bookId=c4e83487-dd0d-4dee-9345-f6fc36455210&token=ESPRESSO-c4e83487-dd0d-4dee-9345-f6fc36455210&bookToken=null\n",
      "https://viewer.ebookservice.tw/api/img?p=105&f=jpg&r=150&preferWidth=898&preferHeight=1707&bookId=c4e83487-dd0d-4dee-9345-f6fc36455210&token=ESPRESSO-c4e83487-dd0d-4dee-9345-f6fc36455210&bookToken=null\n",
      "https://viewer.ebookservice.tw/api/img?p=106&f=jpg&r=150&preferWidth=898&preferHeight=1707&bookId=c4e83487-dd0d-4dee-9345-f6fc36455210&token=ESPRESSO-c4e83487-dd0d-4dee-9345-f6fc36455210&bookToken=null\n",
      "https://viewer.ebookservice.tw/api/img?p=107&f=jpg&r=150&preferWidth=898&preferHeight=1707&bookId=c4e83487-dd0d-4dee-9345-f6fc36455210&token=ESPRESSO-c4e83487-dd0d-4dee-9345-f6fc36455210&bookToken=null\n",
      "https://viewer.ebookservice.tw/api/img?p=108&f=jpg&r=150&preferWidth=898&preferHeight=1707&bookId=c4e83487-dd0d-4dee-9345-f6fc36455210&token=ESPRESSO-c4e83487-dd0d-4dee-9345-f6fc36455210&bookToken=null\n",
      "https://viewer.ebookservice.tw/api/img?p=109&f=jpg&r=150&preferWidth=898&preferHeight=1707&bookId=c4e83487-dd0d-4dee-9345-f6fc36455210&token=ESPRESSO-c4e83487-dd0d-4dee-9345-f6fc36455210&bookToken=null\n"
     ]
    }
   ],
   "source": [
    "for i in range(101, 110):\n",
    "    print(url.format(i))"
   ]
  },
  {
   "cell_type": "code",
   "execution_count": 41,
   "id": "882c016a-ac24-423e-834b-2e691f343a14",
   "metadata": {
    "collapsed": true,
    "jupyter": {
     "outputs_hidden": true
    }
   },
   "outputs": [
    {
     "ename": "KeyboardInterrupt",
     "evalue": "",
     "output_type": "error",
     "traceback": [
      "\u001b[1;31m---------------------------------------------------------------------------\u001b[0m",
      "\u001b[1;31mKeyboardInterrupt\u001b[0m                         Traceback (most recent call last)",
      "Cell \u001b[1;32mIn[41], line 3\u001b[0m\n\u001b[0;32m      1\u001b[0m \u001b[38;5;28;01mfor\u001b[39;00m i \u001b[38;5;129;01min\u001b[39;00m \u001b[38;5;28mrange\u001b[39m(\u001b[38;5;241m101\u001b[39m, \u001b[38;5;241m110\u001b[39m):\n\u001b[0;32m      2\u001b[0m     \u001b[38;5;66;03m# print(url.format(i))\u001b[39;00m\n\u001b[1;32m----> 3\u001b[0m     r \u001b[38;5;241m=\u001b[39m \u001b[43mrequests\u001b[49m\u001b[38;5;241;43m.\u001b[39;49m\u001b[43mget\u001b[49m\u001b[43m(\u001b[49m\u001b[43murl\u001b[49m\u001b[38;5;241;43m.\u001b[39;49m\u001b[43mformat\u001b[49m\u001b[43m(\u001b[49m\u001b[43mi\u001b[49m\u001b[43m)\u001b[49m\u001b[43m)\u001b[49m\n\u001b[0;32m      4\u001b[0m     \u001b[38;5;28;01mwith\u001b[39;00m \u001b[38;5;28mopen\u001b[39m(\u001b[38;5;124mf\u001b[39m\u001b[38;5;124m\"\u001b[39m\u001b[38;5;132;01m{\u001b[39;00mi\u001b[38;5;132;01m}\u001b[39;00m\u001b[38;5;124m.jpg\u001b[39m\u001b[38;5;124m\"\u001b[39m, \u001b[38;5;124m\"\u001b[39m\u001b[38;5;124mwb\u001b[39m\u001b[38;5;124m\"\u001b[39m) \u001b[38;5;28;01mas\u001b[39;00m f:\n\u001b[0;32m      5\u001b[0m         f\u001b[38;5;241m.\u001b[39mwrite(r\u001b[38;5;241m.\u001b[39mcontent)\n",
      "File \u001b[1;32m~\\AppData\\Local\\Packages\\PythonSoftwareFoundation.Python.3.12_qbz5n2kfra8p0\\LocalCache\\local-packages\\Python312\\site-packages\\requests\\api.py:73\u001b[0m, in \u001b[0;36mget\u001b[1;34m(url, params, **kwargs)\u001b[0m\n\u001b[0;32m     62\u001b[0m \u001b[38;5;28;01mdef\u001b[39;00m \u001b[38;5;21mget\u001b[39m(url, params\u001b[38;5;241m=\u001b[39m\u001b[38;5;28;01mNone\u001b[39;00m, \u001b[38;5;241m*\u001b[39m\u001b[38;5;241m*\u001b[39mkwargs):\n\u001b[0;32m     63\u001b[0m \u001b[38;5;250m    \u001b[39m\u001b[38;5;124mr\u001b[39m\u001b[38;5;124;03m\"\"\"Sends a GET request.\u001b[39;00m\n\u001b[0;32m     64\u001b[0m \n\u001b[0;32m     65\u001b[0m \u001b[38;5;124;03m    :param url: URL for the new :class:`Request` object.\u001b[39;00m\n\u001b[1;32m   (...)\u001b[0m\n\u001b[0;32m     70\u001b[0m \u001b[38;5;124;03m    :rtype: requests.Response\u001b[39;00m\n\u001b[0;32m     71\u001b[0m \u001b[38;5;124;03m    \"\"\"\u001b[39;00m\n\u001b[1;32m---> 73\u001b[0m     \u001b[38;5;28;01mreturn\u001b[39;00m \u001b[43mrequest\u001b[49m\u001b[43m(\u001b[49m\u001b[38;5;124;43m\"\u001b[39;49m\u001b[38;5;124;43mget\u001b[39;49m\u001b[38;5;124;43m\"\u001b[39;49m\u001b[43m,\u001b[49m\u001b[43m \u001b[49m\u001b[43murl\u001b[49m\u001b[43m,\u001b[49m\u001b[43m \u001b[49m\u001b[43mparams\u001b[49m\u001b[38;5;241;43m=\u001b[39;49m\u001b[43mparams\u001b[49m\u001b[43m,\u001b[49m\u001b[43m \u001b[49m\u001b[38;5;241;43m*\u001b[39;49m\u001b[38;5;241;43m*\u001b[39;49m\u001b[43mkwargs\u001b[49m\u001b[43m)\u001b[49m\n",
      "File \u001b[1;32m~\\AppData\\Local\\Packages\\PythonSoftwareFoundation.Python.3.12_qbz5n2kfra8p0\\LocalCache\\local-packages\\Python312\\site-packages\\requests\\api.py:59\u001b[0m, in \u001b[0;36mrequest\u001b[1;34m(method, url, **kwargs)\u001b[0m\n\u001b[0;32m     55\u001b[0m \u001b[38;5;66;03m# By using the 'with' statement we are sure the session is closed, thus we\u001b[39;00m\n\u001b[0;32m     56\u001b[0m \u001b[38;5;66;03m# avoid leaving sockets open which can trigger a ResourceWarning in some\u001b[39;00m\n\u001b[0;32m     57\u001b[0m \u001b[38;5;66;03m# cases, and look like a memory leak in others.\u001b[39;00m\n\u001b[0;32m     58\u001b[0m \u001b[38;5;28;01mwith\u001b[39;00m sessions\u001b[38;5;241m.\u001b[39mSession() \u001b[38;5;28;01mas\u001b[39;00m session:\n\u001b[1;32m---> 59\u001b[0m     \u001b[38;5;28;01mreturn\u001b[39;00m \u001b[43msession\u001b[49m\u001b[38;5;241;43m.\u001b[39;49m\u001b[43mrequest\u001b[49m\u001b[43m(\u001b[49m\u001b[43mmethod\u001b[49m\u001b[38;5;241;43m=\u001b[39;49m\u001b[43mmethod\u001b[49m\u001b[43m,\u001b[49m\u001b[43m \u001b[49m\u001b[43murl\u001b[49m\u001b[38;5;241;43m=\u001b[39;49m\u001b[43murl\u001b[49m\u001b[43m,\u001b[49m\u001b[43m \u001b[49m\u001b[38;5;241;43m*\u001b[39;49m\u001b[38;5;241;43m*\u001b[39;49m\u001b[43mkwargs\u001b[49m\u001b[43m)\u001b[49m\n",
      "File \u001b[1;32m~\\AppData\\Local\\Packages\\PythonSoftwareFoundation.Python.3.12_qbz5n2kfra8p0\\LocalCache\\local-packages\\Python312\\site-packages\\requests\\sessions.py:589\u001b[0m, in \u001b[0;36mSession.request\u001b[1;34m(self, method, url, params, data, headers, cookies, files, auth, timeout, allow_redirects, proxies, hooks, stream, verify, cert, json)\u001b[0m\n\u001b[0;32m    584\u001b[0m send_kwargs \u001b[38;5;241m=\u001b[39m {\n\u001b[0;32m    585\u001b[0m     \u001b[38;5;124m\"\u001b[39m\u001b[38;5;124mtimeout\u001b[39m\u001b[38;5;124m\"\u001b[39m: timeout,\n\u001b[0;32m    586\u001b[0m     \u001b[38;5;124m\"\u001b[39m\u001b[38;5;124mallow_redirects\u001b[39m\u001b[38;5;124m\"\u001b[39m: allow_redirects,\n\u001b[0;32m    587\u001b[0m }\n\u001b[0;32m    588\u001b[0m send_kwargs\u001b[38;5;241m.\u001b[39mupdate(settings)\n\u001b[1;32m--> 589\u001b[0m resp \u001b[38;5;241m=\u001b[39m \u001b[38;5;28;43mself\u001b[39;49m\u001b[38;5;241;43m.\u001b[39;49m\u001b[43msend\u001b[49m\u001b[43m(\u001b[49m\u001b[43mprep\u001b[49m\u001b[43m,\u001b[49m\u001b[43m \u001b[49m\u001b[38;5;241;43m*\u001b[39;49m\u001b[38;5;241;43m*\u001b[39;49m\u001b[43msend_kwargs\u001b[49m\u001b[43m)\u001b[49m\n\u001b[0;32m    591\u001b[0m \u001b[38;5;28;01mreturn\u001b[39;00m resp\n",
      "File \u001b[1;32m~\\AppData\\Local\\Packages\\PythonSoftwareFoundation.Python.3.12_qbz5n2kfra8p0\\LocalCache\\local-packages\\Python312\\site-packages\\requests\\sessions.py:703\u001b[0m, in \u001b[0;36mSession.send\u001b[1;34m(self, request, **kwargs)\u001b[0m\n\u001b[0;32m    700\u001b[0m start \u001b[38;5;241m=\u001b[39m preferred_clock()\n\u001b[0;32m    702\u001b[0m \u001b[38;5;66;03m# Send the request\u001b[39;00m\n\u001b[1;32m--> 703\u001b[0m r \u001b[38;5;241m=\u001b[39m \u001b[43madapter\u001b[49m\u001b[38;5;241;43m.\u001b[39;49m\u001b[43msend\u001b[49m\u001b[43m(\u001b[49m\u001b[43mrequest\u001b[49m\u001b[43m,\u001b[49m\u001b[43m \u001b[49m\u001b[38;5;241;43m*\u001b[39;49m\u001b[38;5;241;43m*\u001b[39;49m\u001b[43mkwargs\u001b[49m\u001b[43m)\u001b[49m\n\u001b[0;32m    705\u001b[0m \u001b[38;5;66;03m# Total elapsed time of the request (approximately)\u001b[39;00m\n\u001b[0;32m    706\u001b[0m elapsed \u001b[38;5;241m=\u001b[39m preferred_clock() \u001b[38;5;241m-\u001b[39m start\n",
      "File \u001b[1;32m~\\AppData\\Local\\Packages\\PythonSoftwareFoundation.Python.3.12_qbz5n2kfra8p0\\LocalCache\\local-packages\\Python312\\site-packages\\requests\\adapters.py:486\u001b[0m, in \u001b[0;36mHTTPAdapter.send\u001b[1;34m(self, request, stream, timeout, verify, cert, proxies)\u001b[0m\n\u001b[0;32m    483\u001b[0m     timeout \u001b[38;5;241m=\u001b[39m TimeoutSauce(connect\u001b[38;5;241m=\u001b[39mtimeout, read\u001b[38;5;241m=\u001b[39mtimeout)\n\u001b[0;32m    485\u001b[0m \u001b[38;5;28;01mtry\u001b[39;00m:\n\u001b[1;32m--> 486\u001b[0m     resp \u001b[38;5;241m=\u001b[39m \u001b[43mconn\u001b[49m\u001b[38;5;241;43m.\u001b[39;49m\u001b[43murlopen\u001b[49m\u001b[43m(\u001b[49m\n\u001b[0;32m    487\u001b[0m \u001b[43m        \u001b[49m\u001b[43mmethod\u001b[49m\u001b[38;5;241;43m=\u001b[39;49m\u001b[43mrequest\u001b[49m\u001b[38;5;241;43m.\u001b[39;49m\u001b[43mmethod\u001b[49m\u001b[43m,\u001b[49m\n\u001b[0;32m    488\u001b[0m \u001b[43m        \u001b[49m\u001b[43murl\u001b[49m\u001b[38;5;241;43m=\u001b[39;49m\u001b[43murl\u001b[49m\u001b[43m,\u001b[49m\n\u001b[0;32m    489\u001b[0m \u001b[43m        \u001b[49m\u001b[43mbody\u001b[49m\u001b[38;5;241;43m=\u001b[39;49m\u001b[43mrequest\u001b[49m\u001b[38;5;241;43m.\u001b[39;49m\u001b[43mbody\u001b[49m\u001b[43m,\u001b[49m\n\u001b[0;32m    490\u001b[0m \u001b[43m        \u001b[49m\u001b[43mheaders\u001b[49m\u001b[38;5;241;43m=\u001b[39;49m\u001b[43mrequest\u001b[49m\u001b[38;5;241;43m.\u001b[39;49m\u001b[43mheaders\u001b[49m\u001b[43m,\u001b[49m\n\u001b[0;32m    491\u001b[0m \u001b[43m        \u001b[49m\u001b[43mredirect\u001b[49m\u001b[38;5;241;43m=\u001b[39;49m\u001b[38;5;28;43;01mFalse\u001b[39;49;00m\u001b[43m,\u001b[49m\n\u001b[0;32m    492\u001b[0m \u001b[43m        \u001b[49m\u001b[43massert_same_host\u001b[49m\u001b[38;5;241;43m=\u001b[39;49m\u001b[38;5;28;43;01mFalse\u001b[39;49;00m\u001b[43m,\u001b[49m\n\u001b[0;32m    493\u001b[0m \u001b[43m        \u001b[49m\u001b[43mpreload_content\u001b[49m\u001b[38;5;241;43m=\u001b[39;49m\u001b[38;5;28;43;01mFalse\u001b[39;49;00m\u001b[43m,\u001b[49m\n\u001b[0;32m    494\u001b[0m \u001b[43m        \u001b[49m\u001b[43mdecode_content\u001b[49m\u001b[38;5;241;43m=\u001b[39;49m\u001b[38;5;28;43;01mFalse\u001b[39;49;00m\u001b[43m,\u001b[49m\n\u001b[0;32m    495\u001b[0m \u001b[43m        \u001b[49m\u001b[43mretries\u001b[49m\u001b[38;5;241;43m=\u001b[39;49m\u001b[38;5;28;43mself\u001b[39;49m\u001b[38;5;241;43m.\u001b[39;49m\u001b[43mmax_retries\u001b[49m\u001b[43m,\u001b[49m\n\u001b[0;32m    496\u001b[0m \u001b[43m        \u001b[49m\u001b[43mtimeout\u001b[49m\u001b[38;5;241;43m=\u001b[39;49m\u001b[43mtimeout\u001b[49m\u001b[43m,\u001b[49m\n\u001b[0;32m    497\u001b[0m \u001b[43m        \u001b[49m\u001b[43mchunked\u001b[49m\u001b[38;5;241;43m=\u001b[39;49m\u001b[43mchunked\u001b[49m\u001b[43m,\u001b[49m\n\u001b[0;32m    498\u001b[0m \u001b[43m    \u001b[49m\u001b[43m)\u001b[49m\n\u001b[0;32m    500\u001b[0m \u001b[38;5;28;01mexcept\u001b[39;00m (ProtocolError, \u001b[38;5;167;01mOSError\u001b[39;00m) \u001b[38;5;28;01mas\u001b[39;00m err:\n\u001b[0;32m    501\u001b[0m     \u001b[38;5;28;01mraise\u001b[39;00m \u001b[38;5;167;01mConnectionError\u001b[39;00m(err, request\u001b[38;5;241m=\u001b[39mrequest)\n",
      "File \u001b[1;32m~\\AppData\\Local\\Packages\\PythonSoftwareFoundation.Python.3.12_qbz5n2kfra8p0\\LocalCache\\local-packages\\Python312\\site-packages\\urllib3\\connectionpool.py:793\u001b[0m, in \u001b[0;36mHTTPConnectionPool.urlopen\u001b[1;34m(self, method, url, body, headers, retries, redirect, assert_same_host, timeout, pool_timeout, release_conn, chunked, body_pos, preload_content, decode_content, **response_kw)\u001b[0m\n\u001b[0;32m    790\u001b[0m response_conn \u001b[38;5;241m=\u001b[39m conn \u001b[38;5;28;01mif\u001b[39;00m \u001b[38;5;129;01mnot\u001b[39;00m release_conn \u001b[38;5;28;01melse\u001b[39;00m \u001b[38;5;28;01mNone\u001b[39;00m\n\u001b[0;32m    792\u001b[0m \u001b[38;5;66;03m# Make the request on the HTTPConnection object\u001b[39;00m\n\u001b[1;32m--> 793\u001b[0m response \u001b[38;5;241m=\u001b[39m \u001b[38;5;28;43mself\u001b[39;49m\u001b[38;5;241;43m.\u001b[39;49m\u001b[43m_make_request\u001b[49m\u001b[43m(\u001b[49m\n\u001b[0;32m    794\u001b[0m \u001b[43m    \u001b[49m\u001b[43mconn\u001b[49m\u001b[43m,\u001b[49m\n\u001b[0;32m    795\u001b[0m \u001b[43m    \u001b[49m\u001b[43mmethod\u001b[49m\u001b[43m,\u001b[49m\n\u001b[0;32m    796\u001b[0m \u001b[43m    \u001b[49m\u001b[43murl\u001b[49m\u001b[43m,\u001b[49m\n\u001b[0;32m    797\u001b[0m \u001b[43m    \u001b[49m\u001b[43mtimeout\u001b[49m\u001b[38;5;241;43m=\u001b[39;49m\u001b[43mtimeout_obj\u001b[49m\u001b[43m,\u001b[49m\n\u001b[0;32m    798\u001b[0m \u001b[43m    \u001b[49m\u001b[43mbody\u001b[49m\u001b[38;5;241;43m=\u001b[39;49m\u001b[43mbody\u001b[49m\u001b[43m,\u001b[49m\n\u001b[0;32m    799\u001b[0m \u001b[43m    \u001b[49m\u001b[43mheaders\u001b[49m\u001b[38;5;241;43m=\u001b[39;49m\u001b[43mheaders\u001b[49m\u001b[43m,\u001b[49m\n\u001b[0;32m    800\u001b[0m \u001b[43m    \u001b[49m\u001b[43mchunked\u001b[49m\u001b[38;5;241;43m=\u001b[39;49m\u001b[43mchunked\u001b[49m\u001b[43m,\u001b[49m\n\u001b[0;32m    801\u001b[0m \u001b[43m    \u001b[49m\u001b[43mretries\u001b[49m\u001b[38;5;241;43m=\u001b[39;49m\u001b[43mretries\u001b[49m\u001b[43m,\u001b[49m\n\u001b[0;32m    802\u001b[0m \u001b[43m    \u001b[49m\u001b[43mresponse_conn\u001b[49m\u001b[38;5;241;43m=\u001b[39;49m\u001b[43mresponse_conn\u001b[49m\u001b[43m,\u001b[49m\n\u001b[0;32m    803\u001b[0m \u001b[43m    \u001b[49m\u001b[43mpreload_content\u001b[49m\u001b[38;5;241;43m=\u001b[39;49m\u001b[43mpreload_content\u001b[49m\u001b[43m,\u001b[49m\n\u001b[0;32m    804\u001b[0m \u001b[43m    \u001b[49m\u001b[43mdecode_content\u001b[49m\u001b[38;5;241;43m=\u001b[39;49m\u001b[43mdecode_content\u001b[49m\u001b[43m,\u001b[49m\n\u001b[0;32m    805\u001b[0m \u001b[43m    \u001b[49m\u001b[38;5;241;43m*\u001b[39;49m\u001b[38;5;241;43m*\u001b[39;49m\u001b[43mresponse_kw\u001b[49m\u001b[43m,\u001b[49m\n\u001b[0;32m    806\u001b[0m \u001b[43m\u001b[49m\u001b[43m)\u001b[49m\n\u001b[0;32m    808\u001b[0m \u001b[38;5;66;03m# Everything went great!\u001b[39;00m\n\u001b[0;32m    809\u001b[0m clean_exit \u001b[38;5;241m=\u001b[39m \u001b[38;5;28;01mTrue\u001b[39;00m\n",
      "File \u001b[1;32m~\\AppData\\Local\\Packages\\PythonSoftwareFoundation.Python.3.12_qbz5n2kfra8p0\\LocalCache\\local-packages\\Python312\\site-packages\\urllib3\\connectionpool.py:537\u001b[0m, in \u001b[0;36mHTTPConnectionPool._make_request\u001b[1;34m(self, conn, method, url, body, headers, retries, timeout, chunked, response_conn, preload_content, decode_content, enforce_content_length)\u001b[0m\n\u001b[0;32m    535\u001b[0m \u001b[38;5;66;03m# Receive the response from the server\u001b[39;00m\n\u001b[0;32m    536\u001b[0m \u001b[38;5;28;01mtry\u001b[39;00m:\n\u001b[1;32m--> 537\u001b[0m     response \u001b[38;5;241m=\u001b[39m \u001b[43mconn\u001b[49m\u001b[38;5;241;43m.\u001b[39;49m\u001b[43mgetresponse\u001b[49m\u001b[43m(\u001b[49m\u001b[43m)\u001b[49m\n\u001b[0;32m    538\u001b[0m \u001b[38;5;28;01mexcept\u001b[39;00m (BaseSSLError, \u001b[38;5;167;01mOSError\u001b[39;00m) \u001b[38;5;28;01mas\u001b[39;00m e:\n\u001b[0;32m    539\u001b[0m     \u001b[38;5;28mself\u001b[39m\u001b[38;5;241m.\u001b[39m_raise_timeout(err\u001b[38;5;241m=\u001b[39me, url\u001b[38;5;241m=\u001b[39murl, timeout_value\u001b[38;5;241m=\u001b[39mread_timeout)\n",
      "File \u001b[1;32m~\\AppData\\Local\\Packages\\PythonSoftwareFoundation.Python.3.12_qbz5n2kfra8p0\\LocalCache\\local-packages\\Python312\\site-packages\\urllib3\\connection.py:466\u001b[0m, in \u001b[0;36mHTTPConnection.getresponse\u001b[1;34m(self)\u001b[0m\n\u001b[0;32m    463\u001b[0m \u001b[38;5;28;01mfrom\u001b[39;00m \u001b[38;5;21;01m.\u001b[39;00m\u001b[38;5;21;01mresponse\u001b[39;00m \u001b[38;5;28;01mimport\u001b[39;00m HTTPResponse\n\u001b[0;32m    465\u001b[0m \u001b[38;5;66;03m# Get the response from http.client.HTTPConnection\u001b[39;00m\n\u001b[1;32m--> 466\u001b[0m httplib_response \u001b[38;5;241m=\u001b[39m \u001b[38;5;28;43msuper\u001b[39;49m\u001b[43m(\u001b[49m\u001b[43m)\u001b[49m\u001b[38;5;241;43m.\u001b[39;49m\u001b[43mgetresponse\u001b[49m\u001b[43m(\u001b[49m\u001b[43m)\u001b[49m\n\u001b[0;32m    468\u001b[0m \u001b[38;5;28;01mtry\u001b[39;00m:\n\u001b[0;32m    469\u001b[0m     assert_header_parsing(httplib_response\u001b[38;5;241m.\u001b[39mmsg)\n",
      "File \u001b[1;32mC:\\Program Files\\WindowsApps\\PythonSoftwareFoundation.Python.3.12_3.12.752.0_x64__qbz5n2kfra8p0\\Lib\\http\\client.py:1423\u001b[0m, in \u001b[0;36mHTTPConnection.getresponse\u001b[1;34m(self)\u001b[0m\n\u001b[0;32m   1421\u001b[0m \u001b[38;5;28;01mtry\u001b[39;00m:\n\u001b[0;32m   1422\u001b[0m     \u001b[38;5;28;01mtry\u001b[39;00m:\n\u001b[1;32m-> 1423\u001b[0m         \u001b[43mresponse\u001b[49m\u001b[38;5;241;43m.\u001b[39;49m\u001b[43mbegin\u001b[49m\u001b[43m(\u001b[49m\u001b[43m)\u001b[49m\n\u001b[0;32m   1424\u001b[0m     \u001b[38;5;28;01mexcept\u001b[39;00m \u001b[38;5;167;01mConnectionError\u001b[39;00m:\n\u001b[0;32m   1425\u001b[0m         \u001b[38;5;28mself\u001b[39m\u001b[38;5;241m.\u001b[39mclose()\n",
      "File \u001b[1;32mC:\\Program Files\\WindowsApps\\PythonSoftwareFoundation.Python.3.12_3.12.752.0_x64__qbz5n2kfra8p0\\Lib\\http\\client.py:331\u001b[0m, in \u001b[0;36mHTTPResponse.begin\u001b[1;34m(self)\u001b[0m\n\u001b[0;32m    329\u001b[0m \u001b[38;5;66;03m# read until we get a non-100 response\u001b[39;00m\n\u001b[0;32m    330\u001b[0m \u001b[38;5;28;01mwhile\u001b[39;00m \u001b[38;5;28;01mTrue\u001b[39;00m:\n\u001b[1;32m--> 331\u001b[0m     version, status, reason \u001b[38;5;241m=\u001b[39m \u001b[38;5;28;43mself\u001b[39;49m\u001b[38;5;241;43m.\u001b[39;49m\u001b[43m_read_status\u001b[49m\u001b[43m(\u001b[49m\u001b[43m)\u001b[49m\n\u001b[0;32m    332\u001b[0m     \u001b[38;5;28;01mif\u001b[39;00m status \u001b[38;5;241m!=\u001b[39m CONTINUE:\n\u001b[0;32m    333\u001b[0m         \u001b[38;5;28;01mbreak\u001b[39;00m\n",
      "File \u001b[1;32mC:\\Program Files\\WindowsApps\\PythonSoftwareFoundation.Python.3.12_3.12.752.0_x64__qbz5n2kfra8p0\\Lib\\http\\client.py:292\u001b[0m, in \u001b[0;36mHTTPResponse._read_status\u001b[1;34m(self)\u001b[0m\n\u001b[0;32m    291\u001b[0m \u001b[38;5;28;01mdef\u001b[39;00m \u001b[38;5;21m_read_status\u001b[39m(\u001b[38;5;28mself\u001b[39m):\n\u001b[1;32m--> 292\u001b[0m     line \u001b[38;5;241m=\u001b[39m \u001b[38;5;28mstr\u001b[39m(\u001b[38;5;28;43mself\u001b[39;49m\u001b[38;5;241;43m.\u001b[39;49m\u001b[43mfp\u001b[49m\u001b[38;5;241;43m.\u001b[39;49m\u001b[43mreadline\u001b[49m\u001b[43m(\u001b[49m\u001b[43m_MAXLINE\u001b[49m\u001b[43m \u001b[49m\u001b[38;5;241;43m+\u001b[39;49m\u001b[43m \u001b[49m\u001b[38;5;241;43m1\u001b[39;49m\u001b[43m)\u001b[49m, \u001b[38;5;124m\"\u001b[39m\u001b[38;5;124miso-8859-1\u001b[39m\u001b[38;5;124m\"\u001b[39m)\n\u001b[0;32m    293\u001b[0m     \u001b[38;5;28;01mif\u001b[39;00m \u001b[38;5;28mlen\u001b[39m(line) \u001b[38;5;241m>\u001b[39m _MAXLINE:\n\u001b[0;32m    294\u001b[0m         \u001b[38;5;28;01mraise\u001b[39;00m LineTooLong(\u001b[38;5;124m\"\u001b[39m\u001b[38;5;124mstatus line\u001b[39m\u001b[38;5;124m\"\u001b[39m)\n",
      "File \u001b[1;32mC:\\Program Files\\WindowsApps\\PythonSoftwareFoundation.Python.3.12_3.12.752.0_x64__qbz5n2kfra8p0\\Lib\\socket.py:707\u001b[0m, in \u001b[0;36mSocketIO.readinto\u001b[1;34m(self, b)\u001b[0m\n\u001b[0;32m    705\u001b[0m \u001b[38;5;28;01mwhile\u001b[39;00m \u001b[38;5;28;01mTrue\u001b[39;00m:\n\u001b[0;32m    706\u001b[0m     \u001b[38;5;28;01mtry\u001b[39;00m:\n\u001b[1;32m--> 707\u001b[0m         \u001b[38;5;28;01mreturn\u001b[39;00m \u001b[38;5;28;43mself\u001b[39;49m\u001b[38;5;241;43m.\u001b[39;49m\u001b[43m_sock\u001b[49m\u001b[38;5;241;43m.\u001b[39;49m\u001b[43mrecv_into\u001b[49m\u001b[43m(\u001b[49m\u001b[43mb\u001b[49m\u001b[43m)\u001b[49m\n\u001b[0;32m    708\u001b[0m     \u001b[38;5;28;01mexcept\u001b[39;00m timeout:\n\u001b[0;32m    709\u001b[0m         \u001b[38;5;28mself\u001b[39m\u001b[38;5;241m.\u001b[39m_timeout_occurred \u001b[38;5;241m=\u001b[39m \u001b[38;5;28;01mTrue\u001b[39;00m\n",
      "File \u001b[1;32mC:\\Program Files\\WindowsApps\\PythonSoftwareFoundation.Python.3.12_3.12.752.0_x64__qbz5n2kfra8p0\\Lib\\ssl.py:1252\u001b[0m, in \u001b[0;36mSSLSocket.recv_into\u001b[1;34m(self, buffer, nbytes, flags)\u001b[0m\n\u001b[0;32m   1248\u001b[0m     \u001b[38;5;28;01mif\u001b[39;00m flags \u001b[38;5;241m!=\u001b[39m \u001b[38;5;241m0\u001b[39m:\n\u001b[0;32m   1249\u001b[0m         \u001b[38;5;28;01mraise\u001b[39;00m \u001b[38;5;167;01mValueError\u001b[39;00m(\n\u001b[0;32m   1250\u001b[0m           \u001b[38;5;124m\"\u001b[39m\u001b[38;5;124mnon-zero flags not allowed in calls to recv_into() on \u001b[39m\u001b[38;5;132;01m%s\u001b[39;00m\u001b[38;5;124m\"\u001b[39m \u001b[38;5;241m%\u001b[39m\n\u001b[0;32m   1251\u001b[0m           \u001b[38;5;28mself\u001b[39m\u001b[38;5;241m.\u001b[39m\u001b[38;5;18m__class__\u001b[39m)\n\u001b[1;32m-> 1252\u001b[0m     \u001b[38;5;28;01mreturn\u001b[39;00m \u001b[38;5;28;43mself\u001b[39;49m\u001b[38;5;241;43m.\u001b[39;49m\u001b[43mread\u001b[49m\u001b[43m(\u001b[49m\u001b[43mnbytes\u001b[49m\u001b[43m,\u001b[49m\u001b[43m \u001b[49m\u001b[43mbuffer\u001b[49m\u001b[43m)\u001b[49m\n\u001b[0;32m   1253\u001b[0m \u001b[38;5;28;01melse\u001b[39;00m:\n\u001b[0;32m   1254\u001b[0m     \u001b[38;5;28;01mreturn\u001b[39;00m \u001b[38;5;28msuper\u001b[39m()\u001b[38;5;241m.\u001b[39mrecv_into(buffer, nbytes, flags)\n",
      "File \u001b[1;32mC:\\Program Files\\WindowsApps\\PythonSoftwareFoundation.Python.3.12_3.12.752.0_x64__qbz5n2kfra8p0\\Lib\\ssl.py:1104\u001b[0m, in \u001b[0;36mSSLSocket.read\u001b[1;34m(self, len, buffer)\u001b[0m\n\u001b[0;32m   1102\u001b[0m \u001b[38;5;28;01mtry\u001b[39;00m:\n\u001b[0;32m   1103\u001b[0m     \u001b[38;5;28;01mif\u001b[39;00m buffer \u001b[38;5;129;01mis\u001b[39;00m \u001b[38;5;129;01mnot\u001b[39;00m \u001b[38;5;28;01mNone\u001b[39;00m:\n\u001b[1;32m-> 1104\u001b[0m         \u001b[38;5;28;01mreturn\u001b[39;00m \u001b[38;5;28;43mself\u001b[39;49m\u001b[38;5;241;43m.\u001b[39;49m\u001b[43m_sslobj\u001b[49m\u001b[38;5;241;43m.\u001b[39;49m\u001b[43mread\u001b[49m\u001b[43m(\u001b[49m\u001b[38;5;28;43mlen\u001b[39;49m\u001b[43m,\u001b[49m\u001b[43m \u001b[49m\u001b[43mbuffer\u001b[49m\u001b[43m)\u001b[49m\n\u001b[0;32m   1105\u001b[0m     \u001b[38;5;28;01melse\u001b[39;00m:\n\u001b[0;32m   1106\u001b[0m         \u001b[38;5;28;01mreturn\u001b[39;00m \u001b[38;5;28mself\u001b[39m\u001b[38;5;241m.\u001b[39m_sslobj\u001b[38;5;241m.\u001b[39mread(\u001b[38;5;28mlen\u001b[39m)\n",
      "\u001b[1;31mKeyboardInterrupt\u001b[0m: "
     ]
    }
   ],
   "source": [
    "for i in range(101, 110):\n",
    "    # print(url.format(i))\n",
    "    r = requests.get(url.format(i))\n",
    "    with open(f\"{i}.jpg\", \"wb\") as f:\n",
    "        f.write(r.content)"
   ]
  },
  {
   "cell_type": "code",
   "execution_count": 42,
   "id": "34258bcf-6e24-44d8-8f2e-67d68a11db28",
   "metadata": {},
   "outputs": [],
   "source": [
    "r = requests.get(url.format(100))"
   ]
  },
  {
   "cell_type": "code",
   "execution_count": 43,
   "id": "55391988-b8b5-4709-aa56-5df6ab52662d",
   "metadata": {},
   "outputs": [
    {
     "name": "stdout",
     "output_type": "stream",
     "text": [
      "<html>\n",
      "<head><title>504 Gateway Time-out</title></head>\n",
      "<body>\n",
      "<center><h1>504 Gateway Time-out</h1></center>\n",
      "</body>\n",
      "</html>\n",
      "\n"
     ]
    }
   ],
   "source": [
    "print(r.text)"
   ]
  },
  {
   "cell_type": "markdown",
   "id": "0b71b196-146b-4dff-a6d9-08644a412432",
   "metadata": {},
   "source": [
    "## 使用pandas讀取S&P500成分股\n",
    "\n",
    "https://en.wikipedia.org/wiki/List_of_S%26P_500_companies"
   ]
  },
  {
   "cell_type": "code",
   "execution_count": 44,
   "id": "260fce50-7418-4549-be7d-0a735997ef4f",
   "metadata": {},
   "outputs": [],
   "source": [
    "import pandas as pd"
   ]
  },
  {
   "cell_type": "code",
   "execution_count": 45,
   "id": "5c38e97a-185e-4f98-9af6-77f1692993d7",
   "metadata": {},
   "outputs": [],
   "source": [
    "df_list = pd.read_html(\"https://en.wikipedia.org/wiki/List_of_S%26P_500_companies\")"
   ]
  },
  {
   "cell_type": "code",
   "execution_count": 46,
   "id": "b3c45b8e-8034-4996-b3e0-f1f7737232a9",
   "metadata": {},
   "outputs": [
    {
     "data": {
      "text/html": [
       "<div>\n",
       "<style scoped>\n",
       "    .dataframe tbody tr th:only-of-type {\n",
       "        vertical-align: middle;\n",
       "    }\n",
       "\n",
       "    .dataframe tbody tr th {\n",
       "        vertical-align: top;\n",
       "    }\n",
       "\n",
       "    .dataframe thead th {\n",
       "        text-align: right;\n",
       "    }\n",
       "</style>\n",
       "<table border=\"1\" class=\"dataframe\">\n",
       "  <thead>\n",
       "    <tr style=\"text-align: right;\">\n",
       "      <th></th>\n",
       "      <th>Symbol</th>\n",
       "      <th>Security</th>\n",
       "      <th>GICS Sector</th>\n",
       "      <th>GICS Sub-Industry</th>\n",
       "      <th>Headquarters Location</th>\n",
       "      <th>Date added</th>\n",
       "      <th>CIK</th>\n",
       "      <th>Founded</th>\n",
       "    </tr>\n",
       "  </thead>\n",
       "  <tbody>\n",
       "    <tr>\n",
       "      <th>0</th>\n",
       "      <td>MMM</td>\n",
       "      <td>3M</td>\n",
       "      <td>Industrials</td>\n",
       "      <td>Industrial Conglomerates</td>\n",
       "      <td>Saint Paul, Minnesota</td>\n",
       "      <td>1957-03-04</td>\n",
       "      <td>66740</td>\n",
       "      <td>1902</td>\n",
       "    </tr>\n",
       "    <tr>\n",
       "      <th>1</th>\n",
       "      <td>AOS</td>\n",
       "      <td>A. O. Smith</td>\n",
       "      <td>Industrials</td>\n",
       "      <td>Building Products</td>\n",
       "      <td>Milwaukee, Wisconsin</td>\n",
       "      <td>2017-07-26</td>\n",
       "      <td>91142</td>\n",
       "      <td>1916</td>\n",
       "    </tr>\n",
       "    <tr>\n",
       "      <th>2</th>\n",
       "      <td>ABT</td>\n",
       "      <td>Abbott</td>\n",
       "      <td>Health Care</td>\n",
       "      <td>Health Care Equipment</td>\n",
       "      <td>North Chicago, Illinois</td>\n",
       "      <td>1957-03-04</td>\n",
       "      <td>1800</td>\n",
       "      <td>1888</td>\n",
       "    </tr>\n",
       "    <tr>\n",
       "      <th>3</th>\n",
       "      <td>ABBV</td>\n",
       "      <td>AbbVie</td>\n",
       "      <td>Health Care</td>\n",
       "      <td>Biotechnology</td>\n",
       "      <td>North Chicago, Illinois</td>\n",
       "      <td>2012-12-31</td>\n",
       "      <td>1551152</td>\n",
       "      <td>2013 (1888)</td>\n",
       "    </tr>\n",
       "    <tr>\n",
       "      <th>4</th>\n",
       "      <td>ACN</td>\n",
       "      <td>Accenture</td>\n",
       "      <td>Information Technology</td>\n",
       "      <td>IT Consulting &amp; Other Services</td>\n",
       "      <td>Dublin, Ireland</td>\n",
       "      <td>2011-07-06</td>\n",
       "      <td>1467373</td>\n",
       "      <td>1989</td>\n",
       "    </tr>\n",
       "    <tr>\n",
       "      <th>...</th>\n",
       "      <td>...</td>\n",
       "      <td>...</td>\n",
       "      <td>...</td>\n",
       "      <td>...</td>\n",
       "      <td>...</td>\n",
       "      <td>...</td>\n",
       "      <td>...</td>\n",
       "      <td>...</td>\n",
       "    </tr>\n",
       "    <tr>\n",
       "      <th>498</th>\n",
       "      <td>XYL</td>\n",
       "      <td>Xylem Inc.</td>\n",
       "      <td>Industrials</td>\n",
       "      <td>Industrial Machinery &amp; Supplies &amp; Components</td>\n",
       "      <td>White Plains, New York</td>\n",
       "      <td>2011-11-01</td>\n",
       "      <td>1524472</td>\n",
       "      <td>2011</td>\n",
       "    </tr>\n",
       "    <tr>\n",
       "      <th>499</th>\n",
       "      <td>YUM</td>\n",
       "      <td>Yum! Brands</td>\n",
       "      <td>Consumer Discretionary</td>\n",
       "      <td>Restaurants</td>\n",
       "      <td>Louisville, Kentucky</td>\n",
       "      <td>1997-10-06</td>\n",
       "      <td>1041061</td>\n",
       "      <td>1997</td>\n",
       "    </tr>\n",
       "    <tr>\n",
       "      <th>500</th>\n",
       "      <td>ZBRA</td>\n",
       "      <td>Zebra Technologies</td>\n",
       "      <td>Information Technology</td>\n",
       "      <td>Electronic Equipment &amp; Instruments</td>\n",
       "      <td>Lincolnshire, Illinois</td>\n",
       "      <td>2019-12-23</td>\n",
       "      <td>877212</td>\n",
       "      <td>1969</td>\n",
       "    </tr>\n",
       "    <tr>\n",
       "      <th>501</th>\n",
       "      <td>ZBH</td>\n",
       "      <td>Zimmer Biomet</td>\n",
       "      <td>Health Care</td>\n",
       "      <td>Health Care Equipment</td>\n",
       "      <td>Warsaw, Indiana</td>\n",
       "      <td>2001-08-07</td>\n",
       "      <td>1136869</td>\n",
       "      <td>1927</td>\n",
       "    </tr>\n",
       "    <tr>\n",
       "      <th>502</th>\n",
       "      <td>ZTS</td>\n",
       "      <td>Zoetis</td>\n",
       "      <td>Health Care</td>\n",
       "      <td>Pharmaceuticals</td>\n",
       "      <td>Parsippany, New Jersey</td>\n",
       "      <td>2013-06-21</td>\n",
       "      <td>1555280</td>\n",
       "      <td>1952</td>\n",
       "    </tr>\n",
       "  </tbody>\n",
       "</table>\n",
       "<p>503 rows × 8 columns</p>\n",
       "</div>"
      ],
      "text/plain": [
       "    Symbol            Security             GICS Sector  \\\n",
       "0      MMM                  3M             Industrials   \n",
       "1      AOS         A. O. Smith             Industrials   \n",
       "2      ABT              Abbott             Health Care   \n",
       "3     ABBV              AbbVie             Health Care   \n",
       "4      ACN           Accenture  Information Technology   \n",
       "..     ...                 ...                     ...   \n",
       "498    XYL          Xylem Inc.             Industrials   \n",
       "499    YUM         Yum! Brands  Consumer Discretionary   \n",
       "500   ZBRA  Zebra Technologies  Information Technology   \n",
       "501    ZBH       Zimmer Biomet             Health Care   \n",
       "502    ZTS              Zoetis             Health Care   \n",
       "\n",
       "                                GICS Sub-Industry    Headquarters Location  \\\n",
       "0                        Industrial Conglomerates    Saint Paul, Minnesota   \n",
       "1                               Building Products     Milwaukee, Wisconsin   \n",
       "2                           Health Care Equipment  North Chicago, Illinois   \n",
       "3                                   Biotechnology  North Chicago, Illinois   \n",
       "4                  IT Consulting & Other Services          Dublin, Ireland   \n",
       "..                                            ...                      ...   \n",
       "498  Industrial Machinery & Supplies & Components   White Plains, New York   \n",
       "499                                   Restaurants     Louisville, Kentucky   \n",
       "500            Electronic Equipment & Instruments   Lincolnshire, Illinois   \n",
       "501                         Health Care Equipment          Warsaw, Indiana   \n",
       "502                               Pharmaceuticals   Parsippany, New Jersey   \n",
       "\n",
       "     Date added      CIK      Founded  \n",
       "0    1957-03-04    66740         1902  \n",
       "1    2017-07-26    91142         1916  \n",
       "2    1957-03-04     1800         1888  \n",
       "3    2012-12-31  1551152  2013 (1888)  \n",
       "4    2011-07-06  1467373         1989  \n",
       "..          ...      ...          ...  \n",
       "498  2011-11-01  1524472         2011  \n",
       "499  1997-10-06  1041061         1997  \n",
       "500  2019-12-23   877212         1969  \n",
       "501  2001-08-07  1136869         1927  \n",
       "502  2013-06-21  1555280         1952  \n",
       "\n",
       "[503 rows x 8 columns]"
      ]
     },
     "execution_count": 46,
     "metadata": {},
     "output_type": "execute_result"
    }
   ],
   "source": [
    "df_list[0]"
   ]
  },
  {
   "cell_type": "code",
   "execution_count": 47,
   "id": "c48d38c0-915c-4279-9c0a-7dd602035a99",
   "metadata": {},
   "outputs": [
    {
     "data": {
      "text/plain": [
       "2"
      ]
     },
     "execution_count": 47,
     "metadata": {},
     "output_type": "execute_result"
    }
   ],
   "source": [
    "len(df_list)"
   ]
  },
  {
   "cell_type": "code",
   "execution_count": 48,
   "id": "afed2dba-af29-4204-9229-0f3ea9546d9a",
   "metadata": {},
   "outputs": [
    {
     "data": {
      "text/html": [
       "<div>\n",
       "<style scoped>\n",
       "    .dataframe tbody tr th:only-of-type {\n",
       "        vertical-align: middle;\n",
       "    }\n",
       "\n",
       "    .dataframe tbody tr th {\n",
       "        vertical-align: top;\n",
       "    }\n",
       "\n",
       "    .dataframe thead tr th {\n",
       "        text-align: left;\n",
       "    }\n",
       "</style>\n",
       "<table border=\"1\" class=\"dataframe\">\n",
       "  <thead>\n",
       "    <tr>\n",
       "      <th></th>\n",
       "      <th>Date</th>\n",
       "      <th colspan=\"2\" halign=\"left\">Added</th>\n",
       "      <th colspan=\"2\" halign=\"left\">Removed</th>\n",
       "      <th>Reason</th>\n",
       "    </tr>\n",
       "    <tr>\n",
       "      <th></th>\n",
       "      <th>Date</th>\n",
       "      <th>Ticker</th>\n",
       "      <th>Security</th>\n",
       "      <th>Ticker</th>\n",
       "      <th>Security</th>\n",
       "      <th>Reason</th>\n",
       "    </tr>\n",
       "  </thead>\n",
       "  <tbody>\n",
       "    <tr>\n",
       "      <th>0</th>\n",
       "      <td>March 18, 2024</td>\n",
       "      <td>SMCI</td>\n",
       "      <td>Supermicro</td>\n",
       "      <td>WHR</td>\n",
       "      <td>Whirlpool Corporation</td>\n",
       "      <td>Market capitalization change.[4]</td>\n",
       "    </tr>\n",
       "    <tr>\n",
       "      <th>1</th>\n",
       "      <td>March 18, 2024</td>\n",
       "      <td>DECK</td>\n",
       "      <td>Deckers Brands</td>\n",
       "      <td>ZION</td>\n",
       "      <td>Zions Bancorporation</td>\n",
       "      <td>Market capitalization change.[4]</td>\n",
       "    </tr>\n",
       "    <tr>\n",
       "      <th>2</th>\n",
       "      <td>December 18, 2023</td>\n",
       "      <td>UBER</td>\n",
       "      <td>Uber</td>\n",
       "      <td>SEE</td>\n",
       "      <td>Sealed Air</td>\n",
       "      <td>Market capitalization change.[5]</td>\n",
       "    </tr>\n",
       "    <tr>\n",
       "      <th>3</th>\n",
       "      <td>December 18, 2023</td>\n",
       "      <td>JBL</td>\n",
       "      <td>Jabil</td>\n",
       "      <td>ALK</td>\n",
       "      <td>Alaska Air Group</td>\n",
       "      <td>Market capitalization change.[5]</td>\n",
       "    </tr>\n",
       "    <tr>\n",
       "      <th>4</th>\n",
       "      <td>December 18, 2023</td>\n",
       "      <td>BLDR</td>\n",
       "      <td>Builders FirstSource</td>\n",
       "      <td>SEDG</td>\n",
       "      <td>SolarEdge</td>\n",
       "      <td>Market capitalization change.[5]</td>\n",
       "    </tr>\n",
       "    <tr>\n",
       "      <th>...</th>\n",
       "      <td>...</td>\n",
       "      <td>...</td>\n",
       "      <td>...</td>\n",
       "      <td>...</td>\n",
       "      <td>...</td>\n",
       "      <td>...</td>\n",
       "    </tr>\n",
       "    <tr>\n",
       "      <th>335</th>\n",
       "      <td>June 9, 1999</td>\n",
       "      <td>WLP</td>\n",
       "      <td>Wellpoint</td>\n",
       "      <td>HPH</td>\n",
       "      <td>Harnischfeger Industries</td>\n",
       "      <td>Harnischfeger filed for bankruptcy.[253]</td>\n",
       "    </tr>\n",
       "    <tr>\n",
       "      <th>336</th>\n",
       "      <td>December 11, 1998</td>\n",
       "      <td>FSR</td>\n",
       "      <td>Firstar</td>\n",
       "      <td>LDW</td>\n",
       "      <td>Amoco</td>\n",
       "      <td>BP purchased Amoco.[254]</td>\n",
       "    </tr>\n",
       "    <tr>\n",
       "      <th>337</th>\n",
       "      <td>December 11, 1998</td>\n",
       "      <td>CCL</td>\n",
       "      <td>Carnival Corp.</td>\n",
       "      <td>GRN</td>\n",
       "      <td>General Re</td>\n",
       "      <td>Berkshire Hathaway purchased General Re.[254]</td>\n",
       "    </tr>\n",
       "    <tr>\n",
       "      <th>338</th>\n",
       "      <td>December 11, 1998</td>\n",
       "      <td>CPWR</td>\n",
       "      <td>Compuware</td>\n",
       "      <td>SUN</td>\n",
       "      <td>SunAmerica</td>\n",
       "      <td>AIG purchased SunAmerica.[254]</td>\n",
       "    </tr>\n",
       "    <tr>\n",
       "      <th>339</th>\n",
       "      <td>June 17, 1997</td>\n",
       "      <td>CCI</td>\n",
       "      <td>Countrywide Credit Industries</td>\n",
       "      <td>USL</td>\n",
       "      <td>USLife</td>\n",
       "      <td>AIG acquired USLife.[255]</td>\n",
       "    </tr>\n",
       "  </tbody>\n",
       "</table>\n",
       "<p>340 rows × 6 columns</p>\n",
       "</div>"
      ],
      "text/plain": [
       "                  Date  Added                                Removed  \\\n",
       "                  Date Ticker                       Security  Ticker   \n",
       "0       March 18, 2024   SMCI                     Supermicro     WHR   \n",
       "1       March 18, 2024   DECK                 Deckers Brands    ZION   \n",
       "2    December 18, 2023   UBER                           Uber     SEE   \n",
       "3    December 18, 2023    JBL                          Jabil     ALK   \n",
       "4    December 18, 2023   BLDR           Builders FirstSource    SEDG   \n",
       "..                 ...    ...                            ...     ...   \n",
       "335       June 9, 1999    WLP                      Wellpoint     HPH   \n",
       "336  December 11, 1998    FSR                        Firstar     LDW   \n",
       "337  December 11, 1998    CCL                 Carnival Corp.     GRN   \n",
       "338  December 11, 1998   CPWR                      Compuware     SUN   \n",
       "339      June 17, 1997    CCI  Countrywide Credit Industries     USL   \n",
       "\n",
       "                                                                      Reason  \n",
       "                     Security                                         Reason  \n",
       "0       Whirlpool Corporation               Market capitalization change.[4]  \n",
       "1        Zions Bancorporation               Market capitalization change.[4]  \n",
       "2                  Sealed Air               Market capitalization change.[5]  \n",
       "3            Alaska Air Group               Market capitalization change.[5]  \n",
       "4                   SolarEdge               Market capitalization change.[5]  \n",
       "..                        ...                                            ...  \n",
       "335  Harnischfeger Industries       Harnischfeger filed for bankruptcy.[253]  \n",
       "336                     Amoco                       BP purchased Amoco.[254]  \n",
       "337                General Re  Berkshire Hathaway purchased General Re.[254]  \n",
       "338                SunAmerica                 AIG purchased SunAmerica.[254]  \n",
       "339                    USLife                      AIG acquired USLife.[255]  \n",
       "\n",
       "[340 rows x 6 columns]"
      ]
     },
     "execution_count": 48,
     "metadata": {},
     "output_type": "execute_result"
    }
   ],
   "source": [
    "df_list[1]"
   ]
  },
  {
   "cell_type": "markdown",
   "id": "8314002c-28f3-452b-879a-fd27a676a3f6",
   "metadata": {},
   "source": [
    "## 數字進位轉換"
   ]
  },
  {
   "cell_type": "code",
   "execution_count": 69,
   "id": "14f48a33-1792-494c-bf0e-2b45224c61f5",
   "metadata": {},
   "outputs": [],
   "source": [
    "x = 10"
   ]
  },
  {
   "cell_type": "code",
   "execution_count": 70,
   "id": "0c3d397e-6b0d-425d-ac64-23db26e84251",
   "metadata": {},
   "outputs": [
    {
     "data": {
      "text/plain": [
       "'0b1010'"
      ]
     },
     "execution_count": 70,
     "metadata": {},
     "output_type": "execute_result"
    }
   ],
   "source": [
    "bin(x)"
   ]
  },
  {
   "cell_type": "code",
   "execution_count": 71,
   "id": "5a49dd1c-2b14-4e54-bd64-d06e9ce9883f",
   "metadata": {},
   "outputs": [
    {
     "data": {
      "text/plain": [
       "'0xa'"
      ]
     },
     "execution_count": 71,
     "metadata": {},
     "output_type": "execute_result"
    }
   ],
   "source": [
    "hex(x)"
   ]
  },
  {
   "cell_type": "code",
   "execution_count": 72,
   "id": "bd003299-a754-42a9-a7df-89fbbafe065b",
   "metadata": {},
   "outputs": [
    {
     "data": {
      "text/plain": [
       "167"
      ]
     },
     "execution_count": 72,
     "metadata": {},
     "output_type": "execute_result"
    }
   ],
   "source": [
    "int('a7', 16)"
   ]
  },
  {
   "cell_type": "code",
   "execution_count": 73,
   "id": "14ca9ddd-157b-4553-a815-4559f988d05a",
   "metadata": {},
   "outputs": [
    {
     "data": {
      "text/plain": [
       "'0b10100111'"
      ]
     },
     "execution_count": 73,
     "metadata": {},
     "output_type": "execute_result"
    }
   ],
   "source": [
    "bin(167)"
   ]
  },
  {
   "cell_type": "code",
   "execution_count": 75,
   "id": "2c4fd6af-6443-46e3-a777-5987a384b9cb",
   "metadata": {},
   "outputs": [
    {
     "name": "stdout",
     "output_type": "stream",
     "text": [
      " 0 => 0000 => 00\n",
      " 1 => 0001 => 01\n",
      " 2 => 0010 => 02\n",
      " 3 => 0011 => 03\n",
      " 4 => 0100 => 04\n",
      " 5 => 0101 => 05\n",
      " 6 => 0110 => 06\n",
      " 7 => 0111 => 07\n",
      " 8 => 1000 => 08\n",
      " 9 => 1001 => 09\n",
      "10 => 1010 => 0a\n",
      "11 => 1011 => 0b\n",
      "12 => 1100 => 0c\n",
      "13 => 1101 => 0d\n",
      "14 => 1110 => 0e\n",
      "15 => 1111 => 0f\n"
     ]
    }
   ],
   "source": [
    "for i in range(16):\n",
    "    print(f\"{i:2} => {i:04b} => {i:02x}\")"
   ]
  },
  {
   "cell_type": "markdown",
   "id": "ce8d61f4-9557-4447-9860-f3f21b8eb4d0",
   "metadata": {},
   "source": [
    "## 字串編碼跟解碼"
   ]
  },
  {
   "cell_type": "code",
   "execution_count": 65,
   "id": "066a6e96-14bd-408b-bc85-8760ee5da408",
   "metadata": {},
   "outputs": [],
   "source": [
    "s = \"我愛你\""
   ]
  },
  {
   "cell_type": "code",
   "execution_count": 66,
   "id": "df9b2c1e-2a4b-42e4-8858-a60490966533",
   "metadata": {},
   "outputs": [
    {
     "data": {
      "text/plain": [
       "b'\\xa7\\xda\\xb7R\\xa7A'"
      ]
     },
     "execution_count": 66,
     "metadata": {},
     "output_type": "execute_result"
    }
   ],
   "source": [
    "s.encode('big5')"
   ]
  },
  {
   "cell_type": "code",
   "execution_count": 68,
   "id": "646843f5-d5b5-459b-8cfe-1a176fa77f1f",
   "metadata": {},
   "outputs": [
    {
     "data": {
      "text/plain": [
       "b'\\xe6\\x88\\x91\\xe6\\x84\\x9b\\xe4\\xbd\\xa0'"
      ]
     },
     "execution_count": 68,
     "metadata": {},
     "output_type": "execute_result"
    }
   ],
   "source": [
    "s.encode('utf-8')"
   ]
  },
  {
   "cell_type": "code",
   "execution_count": 84,
   "id": "4bcacf8a-3d79-4a27-8469-035bbf12df32",
   "metadata": {},
   "outputs": [
    {
     "data": {
      "text/plain": [
       "'æ\\x88\\x91æ\\x84\\x9bä½\\xa0'"
      ]
     },
     "execution_count": 84,
     "metadata": {},
     "output_type": "execute_result"
    }
   ],
   "source": [
    "s.encode('utf-8').decode('ISO-8859-1')"
   ]
  },
  {
   "cell_type": "code",
   "execution_count": 85,
   "id": "2ff6f154-f8e0-44c2-9077-cd8eb5d741b6",
   "metadata": {},
   "outputs": [
    {
     "data": {
      "text/plain": [
       "'我愛你'"
      ]
     },
     "execution_count": 85,
     "metadata": {},
     "output_type": "execute_result"
    }
   ],
   "source": [
    "s.encode('utf-8').decode('utf-8')"
   ]
  },
  {
   "cell_type": "markdown",
   "id": "c1e0c590-33bc-4aae-91d5-8b10b07f29ce",
   "metadata": {},
   "source": [
    "## 讀取上市公司基本資料\n",
    "\n",
    "https://mopsfin.twse.com.tw/opendata/t187ap03_L.csv"
   ]
  },
  {
   "cell_type": "code",
   "execution_count": 79,
   "id": "a1954a65-44dd-4a09-b3d8-3ad29f8108fe",
   "metadata": {
    "collapsed": true,
    "jupyter": {
     "outputs_hidden": true
    },
    "scrolled": true
   },
   "outputs": [
    {
     "name": "stderr",
     "output_type": "stream",
     "text": [
      "C:\\Users\\Victor\\AppData\\Local\\Packages\\PythonSoftwareFoundation.Python.3.12_qbz5n2kfra8p0\\LocalCache\\local-packages\\Python312\\site-packages\\urllib3\\connectionpool.py:1103: InsecureRequestWarning:\n",
      "\n",
      "Unverified HTTPS request is being made to host 'mopsfin.twse.com.tw'. Adding certificate verification is strongly advised. See: https://urllib3.readthedocs.io/en/latest/advanced-usage.html#tls-warnings\n",
      "\n"
     ]
    }
   ],
   "source": [
    "r = requests.get(\"https://mopsfin.twse.com.tw/opendata/t187ap03_L.csv\", verify=False)"
   ]
  },
  {
   "cell_type": "code",
   "execution_count": 80,
   "id": "58fd94ae-1382-4ace-9a2a-86ebe9b75ccb",
   "metadata": {},
   "outputs": [
    {
     "data": {
      "text/plain": [
       "'ISO-8859-1'"
      ]
     },
     "execution_count": 80,
     "metadata": {},
     "output_type": "execute_result"
    }
   ],
   "source": [
    "r.encoding"
   ]
  },
  {
   "cell_type": "code",
   "execution_count": 81,
   "id": "23adb89f-5045-4804-aee3-11cdeb05d750",
   "metadata": {},
   "outputs": [
    {
     "data": {
      "text/plain": [
       "'ï»¿å\\x87ºè¡¨æ\\x97¥æ\\x9c\\x9f,å\\x85¬å\\x8f¸ä»£è\\x99\\x9f,å\\x85¬å\\x8f¸å\\x90\\x8dç¨±,å\\x85¬å\\x8f¸ç°¡ç¨±,å¤\\x96å\\x9c\\x8bä¼\\x81æ¥\\xadè¨»å\\x86\\x8aå\\x9c°å\\x9c\\x8b,ç\\x94¢æ¥\\xadå\\x88¥,ä½\\x8få\\x9d\\x80,ç\\x87\\x9f'"
      ]
     },
     "execution_count": 81,
     "metadata": {},
     "output_type": "execute_result"
    }
   ],
   "source": [
    "r.text[:100]"
   ]
  },
  {
   "cell_type": "code",
   "execution_count": 82,
   "id": "e00939fa-cf86-4164-8b91-8b5983399a72",
   "metadata": {},
   "outputs": [],
   "source": [
    "r.encoding = \"utf-8\""
   ]
  },
  {
   "cell_type": "code",
   "execution_count": 83,
   "id": "c4d85a17-4385-4df1-a703-cf94a80d250d",
   "metadata": {},
   "outputs": [
    {
     "data": {
      "text/plain": [
       "'\\ufeff出表日期,公司代號,公司名稱,公司簡稱,外國企業註冊地國,產業別,住址,營利事業統一編號,董事長,總經理,發言人,發言人職稱,代理發言人,總機電話,成立日期,上市日期,普通股每股面額,實收資本額,私'"
      ]
     },
     "execution_count": 83,
     "metadata": {},
     "output_type": "execute_result"
    }
   ],
   "source": [
    "r.text[:100]"
   ]
  },
  {
   "cell_type": "code",
   "execution_count": 62,
   "id": "ac2ea7a4-709a-4e6a-acdd-c6805803cfac",
   "metadata": {
    "collapsed": true,
    "jupyter": {
     "outputs_hidden": true
    }
   },
   "outputs": [
    {
     "name": "stderr",
     "output_type": "stream",
     "text": [
      "C:\\Users\\Victor\\AppData\\Local\\Packages\\PythonSoftwareFoundation.Python.3.12_qbz5n2kfra8p0\\LocalCache\\local-packages\\Python312\\site-packages\\urllib3\\connectionpool.py:1103: InsecureRequestWarning:\n",
      "\n",
      "Unverified HTTPS request is being made to host 'mopsfin.twse.com.tw'. Adding certificate verification is strongly advised. See: https://urllib3.readthedocs.io/en/latest/advanced-usage.html#tls-warnings\n",
      "\n"
     ]
    }
   ],
   "source": [
    "with open('stocks.csv','w', encoding=\"utf8\") as f:\n",
    "    r = requests.get(\"https://mopsfin.twse.com.tw/opendata/t187ap03_L.csv\", verify=False)\n",
    "    r.encoding = \"utf-8\"\n",
    "    f.write(r.text)"
   ]
  },
  {
   "cell_type": "code",
   "execution_count": 63,
   "id": "fa169d89-5bfc-4fb1-9725-fef4dd2e7573",
   "metadata": {},
   "outputs": [],
   "source": [
    "df = pd.read_csv(\"stocks.csv\")"
   ]
  },
  {
   "cell_type": "code",
   "execution_count": 64,
   "id": "df9faf29-1a90-45e2-ba9d-ef63be18075f",
   "metadata": {},
   "outputs": [
    {
     "data": {
      "text/html": [
       "<div>\n",
       "<style scoped>\n",
       "    .dataframe tbody tr th:only-of-type {\n",
       "        vertical-align: middle;\n",
       "    }\n",
       "\n",
       "    .dataframe tbody tr th {\n",
       "        vertical-align: top;\n",
       "    }\n",
       "\n",
       "    .dataframe thead th {\n",
       "        text-align: right;\n",
       "    }\n",
       "</style>\n",
       "<table border=\"1\" class=\"dataframe\">\n",
       "  <thead>\n",
       "    <tr style=\"text-align: right;\">\n",
       "      <th></th>\n",
       "      <th>出表日期</th>\n",
       "      <th>公司代號</th>\n",
       "      <th>公司名稱</th>\n",
       "      <th>公司簡稱</th>\n",
       "      <th>外國企業註冊地國</th>\n",
       "      <th>產業別</th>\n",
       "      <th>住址</th>\n",
       "      <th>營利事業統一編號</th>\n",
       "      <th>董事長</th>\n",
       "      <th>總經理</th>\n",
       "      <th>...</th>\n",
       "      <th>過戶地址</th>\n",
       "      <th>簽證會計師事務所</th>\n",
       "      <th>簽證會計師1</th>\n",
       "      <th>簽證會計師2</th>\n",
       "      <th>英文簡稱</th>\n",
       "      <th>英文通訊地址</th>\n",
       "      <th>傳真機號碼</th>\n",
       "      <th>電子郵件信箱</th>\n",
       "      <th>網址</th>\n",
       "      <th>已發行普通股數或TDR原股發行股數</th>\n",
       "    </tr>\n",
       "  </thead>\n",
       "  <tbody>\n",
       "    <tr>\n",
       "      <th>0</th>\n",
       "      <td>1130318</td>\n",
       "      <td>1101</td>\n",
       "      <td>臺灣水泥股份有限公司</td>\n",
       "      <td>台泥</td>\n",
       "      <td>－</td>\n",
       "      <td>1</td>\n",
       "      <td>台北市中山北路2段113號</td>\n",
       "      <td>11913502</td>\n",
       "      <td>張安平</td>\n",
       "      <td>程耀輝</td>\n",
       "      <td>...</td>\n",
       "      <td>台北市重慶南路一段83號5樓</td>\n",
       "      <td>勤業眾信聯合會計師事務所</td>\n",
       "      <td>翁雅玲</td>\n",
       "      <td>黃惠敏</td>\n",
       "      <td>TCC</td>\n",
       "      <td>No.113, Sec.2, Zhongshan N. Rd.,Taipei City 10...</td>\n",
       "      <td>(02)2531-6529</td>\n",
       "      <td>finance@taiwancement.com</td>\n",
       "      <td>http://www.taiwancement.com</td>\n",
       "      <td>7551181742</td>\n",
       "    </tr>\n",
       "    <tr>\n",
       "      <th>1</th>\n",
       "      <td>1130318</td>\n",
       "      <td>1102</td>\n",
       "      <td>亞洲水泥股份有限公司</td>\n",
       "      <td>亞泥</td>\n",
       "      <td>－</td>\n",
       "      <td>1</td>\n",
       "      <td>台北市大安區敦化南路2段207號30、31樓</td>\n",
       "      <td>3244509</td>\n",
       "      <td>徐旭東</td>\n",
       "      <td>李坤炎</td>\n",
       "      <td>...</td>\n",
       "      <td>新北市板橋區新站路16號13樓</td>\n",
       "      <td>勤業眾信聯合會計師事務所</td>\n",
       "      <td>戴信維</td>\n",
       "      <td>陳培德</td>\n",
       "      <td>ACC</td>\n",
       "      <td>30-31F., No.207, Sec. 2, Dunhua S. Rd., Da' an...</td>\n",
       "      <td>02-2378-5191</td>\n",
       "      <td>service@acc.com.tw</td>\n",
       "      <td>www.acc.com.tw</td>\n",
       "      <td>3546562881</td>\n",
       "    </tr>\n",
       "    <tr>\n",
       "      <th>2</th>\n",
       "      <td>1130318</td>\n",
       "      <td>1103</td>\n",
       "      <td>嘉新水泥股份有限公司</td>\n",
       "      <td>嘉泥</td>\n",
       "      <td>－</td>\n",
       "      <td>1</td>\n",
       "      <td>台北市中山北路2段96號</td>\n",
       "      <td>11892801</td>\n",
       "      <td>張剛綸</td>\n",
       "      <td>王立心</td>\n",
       "      <td>...</td>\n",
       "      <td>台北市敦化南路2段97號地下2樓</td>\n",
       "      <td>勤業眾信聯合會計師事務所</td>\n",
       "      <td>陳薔旬</td>\n",
       "      <td>梁盛泰</td>\n",
       "      <td>CHC</td>\n",
       "      <td>No.96, Sec. 2, Zhongshan N. Rd., Zhongshan Dis...</td>\n",
       "      <td>(02)2511-4002</td>\n",
       "      <td>ir@chcgroup.com.tw</td>\n",
       "      <td>www.chcgroup.com.tw</td>\n",
       "      <td>790247459</td>\n",
       "    </tr>\n",
       "    <tr>\n",
       "      <th>3</th>\n",
       "      <td>1130318</td>\n",
       "      <td>1104</td>\n",
       "      <td>環球水泥股份有限公司</td>\n",
       "      <td>環泥</td>\n",
       "      <td>－</td>\n",
       "      <td>1</td>\n",
       "      <td>台北市南京東路二段125號10樓</td>\n",
       "      <td>7568009</td>\n",
       "      <td>博智投資股份有限公司</td>\n",
       "      <td>侯智升</td>\n",
       "      <td>...</td>\n",
       "      <td>台北市博愛路17號3樓</td>\n",
       "      <td>勤業眾信聯合會計師事務所</td>\n",
       "      <td>李季珍</td>\n",
       "      <td>楊朝欽</td>\n",
       "      <td>UCC</td>\n",
       "      <td>10th F., 125 Nanking E.Rd Sec. 2,Taipei Taiwan</td>\n",
       "      <td>02-25075870</td>\n",
       "      <td>ucc@ucctw.com</td>\n",
       "      <td>www.ucctw.com</td>\n",
       "      <td>673217467</td>\n",
       "    </tr>\n",
       "    <tr>\n",
       "      <th>4</th>\n",
       "      <td>1130318</td>\n",
       "      <td>1108</td>\n",
       "      <td>幸福水泥股份有限公司</td>\n",
       "      <td>幸福</td>\n",
       "      <td>－</td>\n",
       "      <td>1</td>\n",
       "      <td>台北市松江路237號15樓</td>\n",
       "      <td>40601248</td>\n",
       "      <td>陳兩傳</td>\n",
       "      <td>陳明賢</td>\n",
       "      <td>...</td>\n",
       "      <td>台北市中正區博愛路17號3樓</td>\n",
       "      <td>勤業眾信聯合會計師事務所</td>\n",
       "      <td>陳招美</td>\n",
       "      <td>陳薔旬</td>\n",
       "      <td>LUCKY CEMENT</td>\n",
       "      <td>15TH FL.,NO.237,SUNG KIANG RD.,TAIPEI,TAIWAN,R...</td>\n",
       "      <td>25048672</td>\n",
       "      <td>wendy@luckygrp.com.tw</td>\n",
       "      <td>www.luckygrp.com.tw</td>\n",
       "      <td>404738049</td>\n",
       "    </tr>\n",
       "  </tbody>\n",
       "</table>\n",
       "<p>5 rows × 33 columns</p>\n",
       "</div>"
      ],
      "text/plain": [
       "      出表日期  公司代號        公司名稱 公司簡稱 外國企業註冊地國  產業別                      住址  \\\n",
       "0  1130318  1101  臺灣水泥股份有限公司   台泥       －     1           台北市中山北路2段113號   \n",
       "1  1130318  1102  亞洲水泥股份有限公司   亞泥       －     1  台北市大安區敦化南路2段207號30、31樓   \n",
       "2  1130318  1103  嘉新水泥股份有限公司   嘉泥       －     1            台北市中山北路2段96號   \n",
       "3  1130318  1104  環球水泥股份有限公司   環泥       －     1        台北市南京東路二段125號10樓   \n",
       "4  1130318  1108  幸福水泥股份有限公司   幸福       －     1           台北市松江路237號15樓   \n",
       "\n",
       "   營利事業統一編號         董事長  總經理  ...              過戶地址      簽證會計師事務所 簽證會計師1  \\\n",
       "0  11913502         張安平  程耀輝  ...    台北市重慶南路一段83號5樓  勤業眾信聯合會計師事務所    翁雅玲   \n",
       "1   3244509         徐旭東  李坤炎  ...   新北市板橋區新站路16號13樓  勤業眾信聯合會計師事務所    戴信維   \n",
       "2  11892801         張剛綸  王立心  ...  台北市敦化南路2段97號地下2樓  勤業眾信聯合會計師事務所    陳薔旬   \n",
       "3   7568009  博智投資股份有限公司  侯智升  ...       台北市博愛路17號3樓  勤業眾信聯合會計師事務所    李季珍   \n",
       "4  40601248         陳兩傳  陳明賢  ...    台北市中正區博愛路17號3樓  勤業眾信聯合會計師事務所    陳招美   \n",
       "\n",
       "  簽證會計師2          英文簡稱                                             英文通訊地址  \\\n",
       "0    黃惠敏           TCC  No.113, Sec.2, Zhongshan N. Rd.,Taipei City 10...   \n",
       "1    陳培德           ACC  30-31F., No.207, Sec. 2, Dunhua S. Rd., Da' an...   \n",
       "2    梁盛泰           CHC  No.96, Sec. 2, Zhongshan N. Rd., Zhongshan Dis...   \n",
       "3    楊朝欽           UCC     10th F., 125 Nanking E.Rd Sec. 2,Taipei Taiwan   \n",
       "4    陳薔旬  LUCKY CEMENT  15TH FL.,NO.237,SUNG KIANG RD.,TAIPEI,TAIWAN,R...   \n",
       "\n",
       "           傳真機號碼                    電子郵件信箱                           網址  \\\n",
       "0  (02)2531-6529  finance@taiwancement.com  http://www.taiwancement.com   \n",
       "1   02-2378-5191        service@acc.com.tw               www.acc.com.tw   \n",
       "2  (02)2511-4002        ir@chcgroup.com.tw          www.chcgroup.com.tw   \n",
       "3    02-25075870             ucc@ucctw.com                www.ucctw.com   \n",
       "4       25048672     wendy@luckygrp.com.tw          www.luckygrp.com.tw   \n",
       "\n",
       "   已發行普通股數或TDR原股發行股數  \n",
       "0         7551181742  \n",
       "1         3546562881  \n",
       "2          790247459  \n",
       "3          673217467  \n",
       "4          404738049  \n",
       "\n",
       "[5 rows x 33 columns]"
      ]
     },
     "execution_count": 64,
     "metadata": {},
     "output_type": "execute_result"
    }
   ],
   "source": [
    "df.head()"
   ]
  },
  {
   "cell_type": "code",
   "execution_count": null,
   "id": "e7c0eda7-deaf-4519-934b-2ef6f7903ce4",
   "metadata": {},
   "outputs": [],
   "source": []
  }
 ],
 "metadata": {
  "kernelspec": {
   "display_name": "Python 3 (ipykernel)",
   "language": "python",
   "name": "python3"
  },
  "language_info": {
   "codemirror_mode": {
    "name": "ipython",
    "version": 3
   },
   "file_extension": ".py",
   "mimetype": "text/x-python",
   "name": "python",
   "nbconvert_exporter": "python",
   "pygments_lexer": "ipython3",
   "version": "3.12.2"
  }
 },
 "nbformat": 4,
 "nbformat_minor": 5
}
